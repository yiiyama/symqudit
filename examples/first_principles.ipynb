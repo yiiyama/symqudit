{
 "cells": [
  {
   "cell_type": "markdown",
   "id": "e23c68a0-c2c6-49db-9d79-5817eb6463e9",
   "metadata": {},
   "source": [
    "# Reproduction of First-principles analysis of cross-resonance gate operation\n",
    "\n",
    "Malekakhlagh et al. PRA 102, 042605\n",
    "\n",
    "Note that the drive frequency is set to the undressed target qubit frequency, which results in $\\mathcal{O}(J^2)$ differences in the calculation results compared to ideal experimental observations."
   ]
  },
  {
   "cell_type": "code",
   "execution_count": 1,
   "id": "8597de84-01df-40c3-b853-0446b0205183",
   "metadata": {},
   "outputs": [],
   "source": [
    "import sys\n",
    "import os\n",
    "sys.path.append(os.path.dirname(os.getcwd()))\n",
    "import time\n",
    "import pickle\n",
    "import copy\n",
    "import logging\n",
    "from collections import defaultdict\n",
    "from multiprocessing import Pool\n",
    "from IPython.display import Math\n",
    "from sympy import Add, Expr, I, Mul, Pow, S, Symbol, diff, pi, preorder_traversal, simplify, latex\n",
    "from sympy.physics.quantum import Commutator, IdentityOperator, HermitianOperator, TensorProduct, qapply\n",
    "from symqudit.two_transmon_hamiltonian import (TwoTransmonHamiltonian, FrequencyDiff, sort_block_diagonal,\n",
    "                                               to_dict, from_dict, dict_product)\n",
    "from symqudit.schrieffer_wolff_expansion import SWExpansion, integrate_exp_term, integrate_expr\n",
    "from symqudit.common import ketbra, get_expr_at_order, organize_by_denom, DiscreteBra, DiscreteKet, DiscreteOuterProduct\n",
    "\n",
    "logging.basicConfig(level=logging.INFO)\n",
    "logger = logging.getLogger()"
   ]
  },
  {
   "cell_type": "code",
   "execution_count": 2,
   "id": "dcfa0760-290d-4c8b-9a9a-8f6c7ce89da7",
   "metadata": {},
   "outputs": [],
   "source": [
    "Id = IdentityOperator()\n",
    "tvar = Symbol('t', real=True)\n",
    "\n",
    "def expand_opprod(lhs, rhs, blkdiag_only=False) -> dict[tuple, Expr]:\n",
    "    start = time.time()\n",
    "    op_prod = dict_product(op_dicts[lhs], op_dicts[rhs],\n",
    "                           blkdiag_only=blkdiag_only, expand=False)\n",
    "\n",
    "    if blkdiag_only:\n",
    "        filtered = {}\n",
    "        for ket, bra_dict in op_prod.items():\n",
    "            filtered[ket] = {}\n",
    "            for bra, coeff in bra_dict.items():\n",
    "                coeff = coeff.expand()\n",
    "                if isinstance(coeff, Add):\n",
    "                    cterms = coeff.args\n",
    "                else:\n",
    "                    cterms = [coeff]\n",
    "                cterms = [cterm for cterm in cterms if tvar not in preorder_traversal(cterm)]\n",
    "                if cterms:\n",
    "                    filtered[ket][bra] = Add(*cterms)\n",
    "\n",
    "            if not filtered[ket]:\n",
    "                filtered.pop(ket)\n",
    "\n",
    "        op_prod = filtered\n",
    "        \n",
    "    end = time.time()\n",
    "    logger.info('dict_product(%s, %s) in %f seconds', lhs, rhs, end - start)\n",
    "\n",
    "    return op_prod\n",
    "\n",
    "\n",
    "def calculate_commutator(fore, back):\n",
    "    result = copy.deepcopy(fore)\n",
    "    for ket, bra_dict in back.items():\n",
    "        if ket not in result:\n",
    "            result[ket] = defaultdict(lambda: S.Zero)\n",
    "        for bra, coeff in bra_dict.items():\n",
    "            result[ket][bra] -= coeff\n",
    "\n",
    "    return result\n",
    "\n",
    "\n",
    "def expand_expr(expr):\n",
    "    return expr.expand()\n",
    "\n",
    "\n",
    "def sort_static(coeff):\n",
    "    coeff = coeff.expand()\n",
    "    if isinstance(coeff, Add):\n",
    "        terms = coeff.args\n",
    "    else:\n",
    "        terms = [coeff]\n",
    "\n",
    "    s_terms = []\n",
    "    d_terms = []\n",
    "    \n",
    "    for term in terms:\n",
    "        if tvar not in preorder_traversal(term):\n",
    "            s_terms.append(term)\n",
    "        else:\n",
    "            d_terms.append(term)\n",
    "\n",
    "    if s_terms:\n",
    "        s_terms = Add(*s_terms)\n",
    "    else:\n",
    "        s_terms = None\n",
    "    if d_terms:\n",
    "        d_terms = Add(*d_terms)\n",
    "    else:\n",
    "        d_terms = None\n",
    "\n",
    "    return s_terms, d_terms"
   ]
  },
  {
   "cell_type": "code",
   "execution_count": 3,
   "id": "d81330e6-af59-4180-a021-e2e70a5ba13d",
   "metadata": {},
   "outputs": [],
   "source": [
    "def from_dict_parallel(terms):\n",
    "    ops = []\n",
    "    coeffs = []\n",
    "    \n",
    "    for ket, bra_dict in terms.items():\n",
    "        for bra, coeff in bra_dict.items():\n",
    "            coeffs.append(coeff)\n",
    "            if ket[1] is None:\n",
    "                ops.append(TensorProduct(ketbra(ket[0], bra[0]), Id))\n",
    "            else:\n",
    "                ops.append(TensorProduct(ketbra(ket[0], bra[0]), ketbra(ket[1], bra[1])))\n",
    "                \n",
    "    with Pool() as pool:\n",
    "        coeffs = pool.map(expand_expr, coeffs)\n",
    "\n",
    "    return Add(*[c * o for c, o in zip(coeffs, ops)])\n",
    "\n",
    "\n",
    "def sort_block_diagonal_parallel(all_terms):\n",
    "    maybe_blkdiag = []\n",
    "    nonblkdiag = defaultdict(dict)\n",
    "\n",
    "    for ket, bra_dict in all_terms.items():\n",
    "        for bra, coeff in bra_dict.items():\n",
    "            if ket[0] == bra[0]:\n",
    "                maybe_blkdiag.append((ket, bra, coeff))\n",
    "            else:\n",
    "                nonblkdiag[ket][bra] = coeff\n",
    "\n",
    "    blkdiag = defaultdict(dict)\n",
    "    if maybe_blkdiag:\n",
    "        with Pool() as pool:\n",
    "            sorted_coeffs = pool.map(sort_static, [c for _, _, c in maybe_blkdiag])\n",
    "\n",
    "        for (s_terms, d_terms), (ket, bra, _) in zip(sorted_coeffs, maybe_blkdiag):\n",
    "            if s_terms is not None:\n",
    "                blkdiag[ket][bra] = s_terms\n",
    "            if d_terms is not None:\n",
    "                nonblkdiag[ket][bra] = d_terms\n",
    "\n",
    "    return blkdiag, nonblkdiag\n",
    "\n",
    "\n",
    "def integrate_expr_parallel(nonblkdiag):\n",
    "    flattened = [(ket, bra, coeff) for ket, bra_dict in nonblkdiag.items() for bra, coeff in bra_dict.items()]\n",
    "    with Pool() as pool:\n",
    "        coeffs = pool.map(expand_expr, [coeff for _, _, coeff in flattened])\n",
    "    \n",
    "    coeff_terms = []\n",
    "    term_bounds = [0]\n",
    "    for coeff in coeffs:\n",
    "        if isinstance(coeff, Add):\n",
    "            coeff_terms += list(coeff.args)\n",
    "        else:\n",
    "            coeff_terms.append(coeff)\n",
    "        term_bounds.append(len(coeff_terms))\n",
    "\n",
    "    with Pool() as pool:\n",
    "        int_terms = pool.map(integrate_exp_term, coeff_terms)\n",
    "    \n",
    "    integrated = defaultdict(dict)\n",
    "    for iterm, (ket, bra, _) in enumerate(flattened):\n",
    "        integrated[ket][bra] = Add(*int_terms[term_bounds[iterm]:term_bounds[iterm + 1]])\n",
    "\n",
    "    return integrated"
   ]
  },
  {
   "cell_type": "code",
   "execution_count": 4,
   "id": "db2694e7-64d1-4c08-b287-98b13bf99aa3",
   "metadata": {},
   "outputs": [],
   "source": [
    "cutoff = 4\n",
    "c_params = (100., 0.1)\n",
    "t_params = (104., 0.1)"
   ]
  },
  {
   "cell_type": "code",
   "execution_count": 5,
   "id": "e73f7631-93a7-4e10-b741-ab72f171a0ee",
   "metadata": {},
   "outputs": [],
   "source": [
    "tth = TwoTransmonHamiltonian((c_params[0], t_params[0]), (c_params[1], t_params[1]))\n",
    "\n",
    "h_dirac = tth.h_dirac(cutoff=cutoff).expand()\n",
    "h_dirac = h_dirac.subs({tth.drive_freq: tth.qt.symbolic_eigenvalue(1).doit(), tth.drive_phase: pi})\n",
    "h_dirac = tth.subs_delta(h_dirac).expand()\n",
    "h_dirac = tth.symbolify(h_dirac)\n",
    "\n",
    "int_scale = Symbol('lambda', real=True, nonnegative=True)\n",
    "h_i = HermitianOperator('H_I')"
   ]
  },
  {
   "cell_type": "code",
   "execution_count": 6,
   "id": "dfd0beeb-0f15-42e1-be50-e79b7a0790b9",
   "metadata": {
    "tags": []
   },
   "outputs": [
    {
     "data": {
      "text/latex": [
       "$\\displaystyle J {\\nu^c}_{0,1} {\\nu^t}_{0,1} e^{i t {\\Delta^{1}_{1}}} {{\\left|1c\\right\\rangle }{\\left\\langle 0c\\right|}}\\otimes {{\\left|0t\\right\\rangle }{\\left\\langle 1t\\right|}} + J {\\nu^c}_{0,1} {\\nu^t}_{0,1} e^{- i t {\\Delta^{1}_{1}}} {{\\left|0c\\right\\rangle }{\\left\\langle 1c\\right|}}\\otimes {{\\left|1t\\right\\rangle }{\\left\\langle 0t\\right|}} + J {\\nu^c}_{0,1} {\\nu^t}_{1,2} e^{i t {\\Delta^{1}_{2}}} {{\\left|1c\\right\\rangle }{\\left\\langle 0c\\right|}}\\otimes {{\\left|1t\\right\\rangle }{\\left\\langle 2t\\right|}} + J {\\nu^c}_{0,1} {\\nu^t}_{1,2} e^{- i t {\\Delta^{1}_{2}}} {{\\left|0c\\right\\rangle }{\\left\\langle 1c\\right|}}\\otimes {{\\left|2t\\right\\rangle }{\\left\\langle 1t\\right|}} + J {\\nu^c}_{0,1} {\\nu^t}_{2,3} e^{i t {\\Delta^{1}_{3}}} {{\\left|1c\\right\\rangle }{\\left\\langle 0c\\right|}}\\otimes {{\\left|2t\\right\\rangle }{\\left\\langle 3t\\right|}} + J {\\nu^c}_{0,1} {\\nu^t}_{2,3} e^{- i t {\\Delta^{1}_{3}}} {{\\left|0c\\right\\rangle }{\\left\\langle 1c\\right|}}\\otimes {{\\left|3t\\right\\rangle }{\\left\\langle 2t\\right|}} + J {\\nu^c}_{0,1} {\\nu^t}_{3,4} e^{i t {\\Delta^{1}_{4}}} {{\\left|1c\\right\\rangle }{\\left\\langle 0c\\right|}}\\otimes {{\\left|3t\\right\\rangle }{\\left\\langle 4t\\right|}} + J {\\nu^c}_{0,1} {\\nu^t}_{3,4} e^{- i t {\\Delta^{1}_{4}}} {{\\left|0c\\right\\rangle }{\\left\\langle 1c\\right|}}\\otimes {{\\left|4t\\right\\rangle }{\\left\\langle 3t\\right|}} + J {\\nu^c}_{1,2} {\\nu^t}_{0,1} e^{i t {\\Delta^{2}_{1}}} {{\\left|2c\\right\\rangle }{\\left\\langle 1c\\right|}}\\otimes {{\\left|0t\\right\\rangle }{\\left\\langle 1t\\right|}} + J {\\nu^c}_{1,2} {\\nu^t}_{0,1} e^{- i t {\\Delta^{2}_{1}}} {{\\left|1c\\right\\rangle }{\\left\\langle 2c\\right|}}\\otimes {{\\left|1t\\right\\rangle }{\\left\\langle 0t\\right|}} + J {\\nu^c}_{1,2} {\\nu^t}_{1,2} e^{i t {\\Delta^{2}_{2}}} {{\\left|2c\\right\\rangle }{\\left\\langle 1c\\right|}}\\otimes {{\\left|1t\\right\\rangle }{\\left\\langle 2t\\right|}} + J {\\nu^c}_{1,2} {\\nu^t}_{1,2} e^{- i t {\\Delta^{2}_{2}}} {{\\left|1c\\right\\rangle }{\\left\\langle 2c\\right|}}\\otimes {{\\left|2t\\right\\rangle }{\\left\\langle 1t\\right|}} + J {\\nu^c}_{1,2} {\\nu^t}_{2,3} e^{i t {\\Delta^{2}_{3}}} {{\\left|2c\\right\\rangle }{\\left\\langle 1c\\right|}}\\otimes {{\\left|2t\\right\\rangle }{\\left\\langle 3t\\right|}} + J {\\nu^c}_{1,2} {\\nu^t}_{2,3} e^{- i t {\\Delta^{2}_{3}}} {{\\left|1c\\right\\rangle }{\\left\\langle 2c\\right|}}\\otimes {{\\left|3t\\right\\rangle }{\\left\\langle 2t\\right|}} + J {\\nu^c}_{1,2} {\\nu^t}_{3,4} e^{i t {\\Delta^{2}_{4}}} {{\\left|2c\\right\\rangle }{\\left\\langle 1c\\right|}}\\otimes {{\\left|3t\\right\\rangle }{\\left\\langle 4t\\right|}} + J {\\nu^c}_{1,2} {\\nu^t}_{3,4} e^{- i t {\\Delta^{2}_{4}}} {{\\left|1c\\right\\rangle }{\\left\\langle 2c\\right|}}\\otimes {{\\left|4t\\right\\rangle }{\\left\\langle 3t\\right|}} + J {\\nu^c}_{2,3} {\\nu^t}_{0,1} e^{i t {\\Delta^{3}_{1}}} {{\\left|3c\\right\\rangle }{\\left\\langle 2c\\right|}}\\otimes {{\\left|0t\\right\\rangle }{\\left\\langle 1t\\right|}} + J {\\nu^c}_{2,3} {\\nu^t}_{0,1} e^{- i t {\\Delta^{3}_{1}}} {{\\left|2c\\right\\rangle }{\\left\\langle 3c\\right|}}\\otimes {{\\left|1t\\right\\rangle }{\\left\\langle 0t\\right|}} + J {\\nu^c}_{2,3} {\\nu^t}_{1,2} e^{i t {\\Delta^{3}_{2}}} {{\\left|3c\\right\\rangle }{\\left\\langle 2c\\right|}}\\otimes {{\\left|1t\\right\\rangle }{\\left\\langle 2t\\right|}} + J {\\nu^c}_{2,3} {\\nu^t}_{1,2} e^{- i t {\\Delta^{3}_{2}}} {{\\left|2c\\right\\rangle }{\\left\\langle 3c\\right|}}\\otimes {{\\left|2t\\right\\rangle }{\\left\\langle 1t\\right|}} + J {\\nu^c}_{2,3} {\\nu^t}_{2,3} e^{i t {\\Delta^{3}_{3}}} {{\\left|3c\\right\\rangle }{\\left\\langle 2c\\right|}}\\otimes {{\\left|2t\\right\\rangle }{\\left\\langle 3t\\right|}} + J {\\nu^c}_{2,3} {\\nu^t}_{2,3} e^{- i t {\\Delta^{3}_{3}}} {{\\left|2c\\right\\rangle }{\\left\\langle 3c\\right|}}\\otimes {{\\left|3t\\right\\rangle }{\\left\\langle 2t\\right|}} + J {\\nu^c}_{2,3} {\\nu^t}_{3,4} e^{i t {\\Delta^{3}_{4}}} {{\\left|3c\\right\\rangle }{\\left\\langle 2c\\right|}}\\otimes {{\\left|3t\\right\\rangle }{\\left\\langle 4t\\right|}} + J {\\nu^c}_{2,3} {\\nu^t}_{3,4} e^{- i t {\\Delta^{3}_{4}}} {{\\left|2c\\right\\rangle }{\\left\\langle 3c\\right|}}\\otimes {{\\left|4t\\right\\rangle }{\\left\\langle 3t\\right|}} + J {\\nu^c}_{3,4} {\\nu^t}_{0,1} e^{i t {\\Delta^{4}_{1}}} {{\\left|4c\\right\\rangle }{\\left\\langle 3c\\right|}}\\otimes {{\\left|0t\\right\\rangle }{\\left\\langle 1t\\right|}} + J {\\nu^c}_{3,4} {\\nu^t}_{0,1} e^{- i t {\\Delta^{4}_{1}}} {{\\left|3c\\right\\rangle }{\\left\\langle 4c\\right|}}\\otimes {{\\left|1t\\right\\rangle }{\\left\\langle 0t\\right|}} + J {\\nu^c}_{3,4} {\\nu^t}_{1,2} e^{i t {\\Delta^{4}_{2}}} {{\\left|4c\\right\\rangle }{\\left\\langle 3c\\right|}}\\otimes {{\\left|1t\\right\\rangle }{\\left\\langle 2t\\right|}} + J {\\nu^c}_{3,4} {\\nu^t}_{1,2} e^{- i t {\\Delta^{4}_{2}}} {{\\left|3c\\right\\rangle }{\\left\\langle 4c\\right|}}\\otimes {{\\left|2t\\right\\rangle }{\\left\\langle 1t\\right|}} + J {\\nu^c}_{3,4} {\\nu^t}_{2,3} e^{i t {\\Delta^{4}_{3}}} {{\\left|4c\\right\\rangle }{\\left\\langle 3c\\right|}}\\otimes {{\\left|2t\\right\\rangle }{\\left\\langle 3t\\right|}} + J {\\nu^c}_{3,4} {\\nu^t}_{2,3} e^{- i t {\\Delta^{4}_{3}}} {{\\left|3c\\right\\rangle }{\\left\\langle 4c\\right|}}\\otimes {{\\left|3t\\right\\rangle }{\\left\\langle 2t\\right|}} + J {\\nu^c}_{3,4} {\\nu^t}_{3,4} e^{i t {\\Delta^{4}_{4}}} {{\\left|4c\\right\\rangle }{\\left\\langle 3c\\right|}}\\otimes {{\\left|3t\\right\\rangle }{\\left\\langle 4t\\right|}} + J {\\nu^c}_{3,4} {\\nu^t}_{3,4} e^{- i t {\\Delta^{4}_{4}}} {{\\left|3c\\right\\rangle }{\\left\\langle 4c\\right|}}\\otimes {{\\left|4t\\right\\rangle }{\\left\\langle 3t\\right|}} + \\frac{\\Omega {\\nu^c}_{0,1} e^{i t {\\Delta^{1}_{1}}} {{\\left|1c\\right\\rangle }{\\left\\langle 0c\\right|}}\\otimes {{\\mathcal{I}}}}{2} + \\frac{\\Omega {\\nu^c}_{0,1} e^{- i t {\\Delta^{1}_{1}}} {{\\left|0c\\right\\rangle }{\\left\\langle 1c\\right|}}\\otimes {{\\mathcal{I}}}}{2} + \\frac{\\Omega {\\nu^c}_{1,2} e^{i t {\\Delta^{2}_{1}}} {{\\left|2c\\right\\rangle }{\\left\\langle 1c\\right|}}\\otimes {{\\mathcal{I}}}}{2} + \\frac{\\Omega {\\nu^c}_{1,2} e^{- i t {\\Delta^{2}_{1}}} {{\\left|1c\\right\\rangle }{\\left\\langle 2c\\right|}}\\otimes {{\\mathcal{I}}}}{2} + \\frac{\\Omega {\\nu^c}_{2,3} e^{i t {\\Delta^{3}_{1}}} {{\\left|3c\\right\\rangle }{\\left\\langle 2c\\right|}}\\otimes {{\\mathcal{I}}}}{2} + \\frac{\\Omega {\\nu^c}_{2,3} e^{- i t {\\Delta^{3}_{1}}} {{\\left|2c\\right\\rangle }{\\left\\langle 3c\\right|}}\\otimes {{\\mathcal{I}}}}{2} + \\frac{\\Omega {\\nu^c}_{3,4} e^{i t {\\Delta^{4}_{1}}} {{\\left|4c\\right\\rangle }{\\left\\langle 3c\\right|}}\\otimes {{\\mathcal{I}}}}{2} + \\frac{\\Omega {\\nu^c}_{3,4} e^{- i t {\\Delta^{4}_{1}}} {{\\left|3c\\right\\rangle }{\\left\\langle 4c\\right|}}\\otimes {{\\mathcal{I}}}}{2}$"
      ],
      "text/plain": [
       "J*{\\nu^c}_{0,1}*{\\nu^t}_{0,1}*exp(I*t*{\\Delta^{1}_{1}})*|1c><0c|x|0t><1t| + J*{\\nu^c}_{0,1}*{\\nu^t}_{0,1}*exp(-I*t*{\\Delta^{1}_{1}})*|0c><1c|x|1t><0t| + J*{\\nu^c}_{0,1}*{\\nu^t}_{1,2}*exp(I*t*{\\Delta^{1}_{2}})*|1c><0c|x|1t><2t| + J*{\\nu^c}_{0,1}*{\\nu^t}_{1,2}*exp(-I*t*{\\Delta^{1}_{2}})*|0c><1c|x|2t><1t| + J*{\\nu^c}_{0,1}*{\\nu^t}_{2,3}*exp(I*t*{\\Delta^{1}_{3}})*|1c><0c|x|2t><3t| + J*{\\nu^c}_{0,1}*{\\nu^t}_{2,3}*exp(-I*t*{\\Delta^{1}_{3}})*|0c><1c|x|3t><2t| + J*{\\nu^c}_{0,1}*{\\nu^t}_{3,4}*exp(I*t*{\\Delta^{1}_{4}})*|1c><0c|x|3t><4t| + J*{\\nu^c}_{0,1}*{\\nu^t}_{3,4}*exp(-I*t*{\\Delta^{1}_{4}})*|0c><1c|x|4t><3t| + J*{\\nu^c}_{1,2}*{\\nu^t}_{0,1}*exp(I*t*{\\Delta^{2}_{1}})*|2c><1c|x|0t><1t| + J*{\\nu^c}_{1,2}*{\\nu^t}_{0,1}*exp(-I*t*{\\Delta^{2}_{1}})*|1c><2c|x|1t><0t| + J*{\\nu^c}_{1,2}*{\\nu^t}_{1,2}*exp(I*t*{\\Delta^{2}_{2}})*|2c><1c|x|1t><2t| + J*{\\nu^c}_{1,2}*{\\nu^t}_{1,2}*exp(-I*t*{\\Delta^{2}_{2}})*|1c><2c|x|2t><1t| + J*{\\nu^c}_{1,2}*{\\nu^t}_{2,3}*exp(I*t*{\\Delta^{2}_{3}})*|2c><1c|x|2t><3t| + J*{\\nu^c}_{1,2}*{\\nu^t}_{2,3}*exp(-I*t*{\\Delta^{2}_{3}})*|1c><2c|x|3t><2t| + J*{\\nu^c}_{1,2}*{\\nu^t}_{3,4}*exp(I*t*{\\Delta^{2}_{4}})*|2c><1c|x|3t><4t| + J*{\\nu^c}_{1,2}*{\\nu^t}_{3,4}*exp(-I*t*{\\Delta^{2}_{4}})*|1c><2c|x|4t><3t| + J*{\\nu^c}_{2,3}*{\\nu^t}_{0,1}*exp(I*t*{\\Delta^{3}_{1}})*|3c><2c|x|0t><1t| + J*{\\nu^c}_{2,3}*{\\nu^t}_{0,1}*exp(-I*t*{\\Delta^{3}_{1}})*|2c><3c|x|1t><0t| + J*{\\nu^c}_{2,3}*{\\nu^t}_{1,2}*exp(I*t*{\\Delta^{3}_{2}})*|3c><2c|x|1t><2t| + J*{\\nu^c}_{2,3}*{\\nu^t}_{1,2}*exp(-I*t*{\\Delta^{3}_{2}})*|2c><3c|x|2t><1t| + J*{\\nu^c}_{2,3}*{\\nu^t}_{2,3}*exp(I*t*{\\Delta^{3}_{3}})*|3c><2c|x|2t><3t| + J*{\\nu^c}_{2,3}*{\\nu^t}_{2,3}*exp(-I*t*{\\Delta^{3}_{3}})*|2c><3c|x|3t><2t| + J*{\\nu^c}_{2,3}*{\\nu^t}_{3,4}*exp(I*t*{\\Delta^{3}_{4}})*|3c><2c|x|3t><4t| + J*{\\nu^c}_{2,3}*{\\nu^t}_{3,4}*exp(-I*t*{\\Delta^{3}_{4}})*|2c><3c|x|4t><3t| + J*{\\nu^c}_{3,4}*{\\nu^t}_{0,1}*exp(I*t*{\\Delta^{4}_{1}})*|4c><3c|x|0t><1t| + J*{\\nu^c}_{3,4}*{\\nu^t}_{0,1}*exp(-I*t*{\\Delta^{4}_{1}})*|3c><4c|x|1t><0t| + J*{\\nu^c}_{3,4}*{\\nu^t}_{1,2}*exp(I*t*{\\Delta^{4}_{2}})*|4c><3c|x|1t><2t| + J*{\\nu^c}_{3,4}*{\\nu^t}_{1,2}*exp(-I*t*{\\Delta^{4}_{2}})*|3c><4c|x|2t><1t| + J*{\\nu^c}_{3,4}*{\\nu^t}_{2,3}*exp(I*t*{\\Delta^{4}_{3}})*|4c><3c|x|2t><3t| + J*{\\nu^c}_{3,4}*{\\nu^t}_{2,3}*exp(-I*t*{\\Delta^{4}_{3}})*|3c><4c|x|3t><2t| + J*{\\nu^c}_{3,4}*{\\nu^t}_{3,4}*exp(I*t*{\\Delta^{4}_{4}})*|4c><3c|x|3t><4t| + J*{\\nu^c}_{3,4}*{\\nu^t}_{3,4}*exp(-I*t*{\\Delta^{4}_{4}})*|3c><4c|x|4t><3t| + Omega*{\\nu^c}_{0,1}*exp(I*t*{\\Delta^{1}_{1}})*|1c><0c|xI/2 + Omega*{\\nu^c}_{0,1}*exp(-I*t*{\\Delta^{1}_{1}})*|0c><1c|xI/2 + Omega*{\\nu^c}_{1,2}*exp(I*t*{\\Delta^{2}_{1}})*|2c><1c|xI/2 + Omega*{\\nu^c}_{1,2}*exp(-I*t*{\\Delta^{2}_{1}})*|1c><2c|xI/2 + Omega*{\\nu^c}_{2,3}*exp(I*t*{\\Delta^{3}_{1}})*|3c><2c|xI/2 + Omega*{\\nu^c}_{2,3}*exp(-I*t*{\\Delta^{3}_{1}})*|2c><3c|xI/2 + Omega*{\\nu^c}_{3,4}*exp(I*t*{\\Delta^{4}_{1}})*|4c><3c|xI/2 + Omega*{\\nu^c}_{3,4}*exp(-I*t*{\\Delta^{4}_{1}})*|3c><4c|xI/2"
      ]
     },
     "execution_count": 6,
     "metadata": {},
     "output_type": "execute_result"
    }
   ],
   "source": [
    "h_dirac"
   ]
  },
  {
   "cell_type": "code",
   "execution_count": 7,
   "id": "f5748cad-35fa-490c-a919-9666a83a2a28",
   "metadata": {},
   "outputs": [],
   "source": [
    "def calc_heff_at_order(order, blkdiag_only=False):\n",
    "    comm_expr = get_expr_at_order(expansion, int_scale, order) + sw.gdot_n[order]\n",
    "\n",
    "    start = time.time()\n",
    "    if order == 1:\n",
    "        # No commutator for Order λ -> just substitute H_I\n",
    "        states_expr[order] = comm_expr.subs({h_i: h_dirac})\n",
    "        all_terms = to_dict(states_expr[order])\n",
    "\n",
    "    else:\n",
    "        while True:\n",
    "            if isinstance(comm_expr, Add):\n",
    "                terms = comm_expr.args\n",
    "            else:\n",
    "                terms = [comm_expr]\n",
    "            for term in terms:\n",
    "                comm = term.args_cnc()[1][0]\n",
    "                if isinstance(comm.args[0], Commutator) or isinstance(comm.args[1], Commutator):\n",
    "                    break\n",
    "            else:\n",
    "                break\n",
    "            new_expr = comm_expr.subs(commutator_subs)\n",
    "            if new_expr == comm_expr:\n",
    "                raise RuntimeError('Cannot reduce commutator %s', comm_expr)\n",
    "            comm_expr = new_expr\n",
    "\n",
    "        coeffs = []\n",
    "        commutators = []\n",
    "        opprod_terms = []\n",
    "        for term in terms:\n",
    "            c, nc = term.args_cnc()\n",
    "            coeff = Mul(*c)\n",
    "            comm = nc[0]\n",
    "            if isinstance(comm, Mul):\n",
    "                coeff *= comm.args[0]\n",
    "                comm = comm.args[1]\n",
    "            coeffs.append(coeff)\n",
    "            commutators.append(comm)\n",
    "            opprod_terms.append((comm.args[0], comm.args[1]))\n",
    "            opprod_terms.append((comm.args[1], comm.args[0]))\n",
    "        \n",
    "        with Pool() as pool:\n",
    "            if blkdiag_only:\n",
    "                args = [arg + (True,) for arg in opprod_terms]\n",
    "            else:\n",
    "                args = opprod_terms\n",
    "            opprods = pool.starmap(expand_opprod, args)\n",
    "            \n",
    "        end = time.time()\n",
    "        logger.info('expand_opprod for order %d in %f seconds', order, end - start)\n",
    "        start = end\n",
    "        \n",
    "        comm_dicts_source = list(zip(opprods[0:-1:2], opprods[1::2]))\n",
    "        with Pool() as pool:\n",
    "            comm_dicts = pool.starmap(calculate_commutator, comm_dicts_source)\n",
    "            \n",
    "        end = time.time()\n",
    "        logger.info('calculate_commutator for order %d in %f seconds', order, end - start)\n",
    "        start = end\n",
    "        \n",
    "        all_terms = defaultdict(lambda: defaultdict(lambda: S.Zero))\n",
    "        for coeff, comm, comm_dict in zip(coeffs, commutators, comm_dicts):\n",
    "            if not blkdiag_only:\n",
    "                placeholder = HermitianOperator(f'C_{len(commutator_subs)}')\n",
    "                commutator_subs[comm] = placeholder\n",
    "                op_dicts[placeholder] = comm_dict\n",
    "\n",
    "            for ket, bra_dict in comm_dict.items():\n",
    "                for bra, c in bra_dict.items():\n",
    "                    all_terms[ket][bra] += coeff * c\n",
    "                \n",
    "        end = time.time()\n",
    "        logger.info('all_terms compilation for order %d in %f seconds', order, end - start)\n",
    "        start = end\n",
    "\n",
    "        # Expression in terms of TensorProduct(OuterProduct, OuterProduct or Identity)\n",
    "        states_expr[order] = from_dict_parallel(all_terms)\n",
    "\n",
    "    if blkdiag_only:\n",
    "        hieff[order] = states_expr[order]\n",
    "        return\n",
    "\n",
    "    blkdiag, nonblkdiag = sort_block_diagonal_parallel(all_terms)\n",
    "    hieff[order] = from_dict_parallel(blkdiag)\n",
    "    gdot[order] = from_dict_parallel(nonblkdiag)\n",
    "    \n",
    "    end = time.time()\n",
    "    logger.info('sort_block_diagonal(%d) in %f seconds', order, end - start)\n",
    "    start = end\n",
    "    \n",
    "    integrated = integrate_expr_parallel(nonblkdiag)\n",
    "    g[order] = from_dict_parallel(integrated)\n",
    "    \n",
    "    end = time.time()\n",
    "    logger.info('integrate_expr(%d) in %f seconds', order, end - start)\n",
    "\n",
    "    op_dicts.update({sw.g_n[order]: to_dict(g[order]), sw.gdot_n[order]: to_dict(gdot[order])})"
   ]
  },
  {
   "cell_type": "code",
   "execution_count": 8,
   "id": "311688f2-9753-4e7b-b26c-7f126ee8ff7d",
   "metadata": {
    "tags": []
   },
   "outputs": [
    {
     "name": "stderr",
     "output_type": "stream",
     "text": [
      "INFO:root:sort_block_diagonal(1) in 1.617250 seconds\n",
      "INFO:root:integrate_expr(1) in 2.412985 seconds\n",
      "INFO:root:dict_product(G_1, H_I) in 0.018726 seconds\n",
      "INFO:root:dict_product(H_I, G_1) in 0.028255 seconds\n",
      "INFO:root:expand_opprod for order 2 in 0.811177 seconds\n",
      "INFO:root:calculate_commutator for order 2 in 0.795508 seconds\n",
      "INFO:root:all_terms compilation for order 2 in 0.008548 seconds\n",
      "INFO:root:sort_block_diagonal(2) in 4.840205 seconds\n",
      "INFO:root:integrate_expr(2) in 5.191500 seconds\n"
     ]
    }
   ],
   "source": [
    "op_dicts = {h_i: to_dict(h_dirac)}\n",
    "states_expr = {}\n",
    "commutator_subs = {}\n",
    "g = {}\n",
    "gdot = {}\n",
    "hieff = {}\n",
    "\n",
    "sw = SWExpansion()\n",
    "expansion = sw.expand(int_scale * h_i, int_scale, 4)\n",
    "\n",
    "## Order λ\n",
    "calc_heff_at_order(1)\n",
    "\n",
    "# Special substitution\n",
    "expansion = expansion.subs({sw.gdot_n[1]: h_i})\n",
    "\n",
    "## Order λ^2\n",
    "calc_heff_at_order(2)"
   ]
  },
  {
   "cell_type": "code",
   "execution_count": 9,
   "id": "57c1d6b0-da9e-46a2-bce7-2320b3484879",
   "metadata": {
    "tags": []
   },
   "outputs": [
    {
     "data": {
      "text/latex": [
       "$\\displaystyle \\omega_{IX}^{(2)} = - \\frac{J \\Omega \\left({\\nu^c}_{1,2}\\right)^{2} {\\nu^t}_{0,1}}{2 {\\Delta^{2}_{1}}}$"
      ],
      "text/plain": [
       "<IPython.core.display.Math object>"
      ]
     },
     "metadata": {},
     "output_type": "display_data"
    },
    {
     "data": {
      "text/latex": [
       "$\\displaystyle \\omega_{ZI}^{(2)} = \\frac{J^{2} \\left({\\nu^c}_{1,2}\\right)^{2} \\left({\\nu^t}_{0,1}\\right)^{2}}{2 {\\Delta^{2}_{1}}} - \\frac{J^{2} \\left({\\nu^c}_{0,1}\\right)^{2} \\left({\\nu^t}_{1,2}\\right)^{2}}{2 {\\Delta^{1}_{2}}} - \\frac{J^{2} \\left({\\nu^c}_{0,1}\\right)^{2} \\left({\\nu^t}_{0,1}\\right)^{2}}{{\\Delta^{1}_{1}}} + \\frac{\\Omega^{2} \\left({\\nu^c}_{1,2}\\right)^{2}}{4 {\\Delta^{2}_{1}}} - \\frac{\\Omega^{2} \\left({\\nu^c}_{0,1}\\right)^{2}}{2 {\\Delta^{1}_{1}}}$"
      ],
      "text/plain": [
       "<IPython.core.display.Math object>"
      ]
     },
     "metadata": {},
     "output_type": "display_data"
    },
    {
     "data": {
      "text/latex": [
       "$\\displaystyle \\omega_{ZX}^{(2)} = \\frac{J \\Omega \\left({\\nu^c}_{1,2}\\right)^{2} {\\nu^t}_{0,1}}{2 {\\Delta^{2}_{1}}} - \\frac{J \\Omega \\left({\\nu^c}_{0,1}\\right)^{2} {\\nu^t}_{0,1}}{{\\Delta^{1}_{1}}}$"
      ],
      "text/plain": [
       "<IPython.core.display.Math object>"
      ]
     },
     "metadata": {},
     "output_type": "display_data"
    },
    {
     "data": {
      "text/latex": [
       "$\\displaystyle \\omega_{ZZ}^{(2)} = - \\frac{J^{2} \\left({\\nu^c}_{1,2}\\right)^{2} \\left({\\nu^t}_{0,1}\\right)^{2}}{2 {\\Delta^{2}_{1}}} + \\frac{J^{2} \\left({\\nu^c}_{0,1}\\right)^{2} \\left({\\nu^t}_{1,2}\\right)^{2}}{2 {\\Delta^{1}_{2}}}$"
      ],
      "text/plain": [
       "<IPython.core.display.Math object>"
      ]
     },
     "metadata": {},
     "output_type": "display_data"
    }
   ],
   "source": [
    "compos = tth.pauli_components(hieff[2], 2, 2)\n",
    "pauli_names = ['I', 'X', 'Y', 'Z']\n",
    "\n",
    "for idx in [(0, 1), (3, 0), (3, 1), (3, 3)]:\n",
    "    display(Math(fr'\\omega_{{{pauli_names[idx[0]]}{pauli_names[idx[1]]}}}^{{(2)}} = ' + latex(compos[idx])))"
   ]
  },
  {
   "cell_type": "code",
   "execution_count": 10,
   "id": "627023b9-9e2e-4356-9ccf-6622ef4b6ba6",
   "metadata": {},
   "outputs": [
    {
     "name": "stderr",
     "output_type": "stream",
     "text": [
      "INFO:root:dict_product(G_1, \\dot{G}_2) in 0.022992 seconds\n",
      "INFO:root:dict_product(\\dot{G}_2, G_1) in 0.025730 seconds\n",
      "INFO:root:dict_product(G_1, C_0) in 0.034861 seconds\n",
      "INFO:root:dict_product(G_2, H_I) in 0.046166 seconds\n",
      "INFO:root:dict_product(H_I, G_2) in 0.057194 seconds\n",
      "INFO:root:dict_product(C_0, G_1) in 0.396055 seconds\n",
      "INFO:root:expand_opprod for order 3 in 1.951927 seconds\n",
      "INFO:root:calculate_commutator for order 3 in 2.058219 seconds\n",
      "INFO:root:all_terms compilation for order 3 in 0.072147 seconds\n",
      "INFO:root:sort_block_diagonal(3) in 38.637344 seconds\n",
      "INFO:root:integrate_expr(3) in 15.472812 seconds\n"
     ]
    }
   ],
   "source": [
    "# Order λ^3\n",
    "calc_heff_at_order(3)"
   ]
  },
  {
   "cell_type": "code",
   "execution_count": 11,
   "id": "3f922b68-8502-4437-a9c2-8f3eeaf326d1",
   "metadata": {
    "tags": []
   },
   "outputs": [
    {
     "name": "stderr",
     "output_type": "stream",
     "text": [
      "INFO:root:dict_product(H_I, G_3) in 0.000269 seconds\n",
      "INFO:root:dict_product(G_3, H_I) in 0.000238 seconds\n",
      "INFO:root:dict_product(G_1, \\dot{G}_3) in 0.039698 seconds\n",
      "INFO:root:dict_product(G_1, C_3) in 0.056959 seconds\n",
      "INFO:root:dict_product(G_2, \\dot{G}_2) in 0.056076 seconds\n",
      "INFO:root:dict_product(G_2, C_0) in 0.059399 seconds\n",
      "INFO:root:dict_product(G_1, C_2) in 0.065222 seconds\n",
      "INFO:root:dict_product(G_1, C_1) in 0.064779 seconds\n",
      "INFO:root:dict_product(\\dot{G}_3, G_1) in 0.065972 seconds\n",
      "INFO:root:dict_product(\\dot{G}_2, G_2) in 0.067768 seconds\n",
      "INFO:root:dict_product(C_0, G_2) in 0.418097 seconds\n",
      "INFO:root:dict_product(C_3, G_1) in 0.437137 seconds\n",
      "INFO:root:dict_product(C_1, G_1) in 0.478005 seconds\n",
      "INFO:root:dict_product(C_2, G_1) in 1.376780 seconds\n",
      "INFO:root:expand_opprod for order 4 in 13.215232 seconds\n",
      "INFO:root:calculate_commutator for order 4 in 13.165063 seconds\n",
      "INFO:root:all_terms compilation for order 4 in 0.654274 seconds\n",
      "INFO:root:sort_block_diagonal(4) in 1006.087054 seconds\n",
      "INFO:root:integrate_expr(4) in 184.495672 seconds\n"
     ]
    }
   ],
   "source": [
    "calc_heff_at_order(4)"
   ]
  },
  {
   "cell_type": "code",
   "execution_count": 12,
   "id": "3ce9c955-2ca5-49cf-8ad9-66801056bd94",
   "metadata": {
    "tags": []
   },
   "outputs": [],
   "source": [
    "compos = tth.pauli_components(hieff[4], 2, 2)"
   ]
  },
  {
   "cell_type": "code",
   "execution_count": 15,
   "id": "1f91ef29-b006-4ca3-b60f-c71e2778ab0f",
   "metadata": {
    "tags": []
   },
   "outputs": [],
   "source": [
    "f = tth.symbolify(tth.coupling * tth.drive_amp ** 3 * organize_by_denom((get_expr_at_order(compos[3, 1], tth.drive_amp, 3) / tth.coupling).expand()))\n"
   ]
  },
  {
   "cell_type": "code",
   "execution_count": 16,
   "id": "955689b2-e382-41da-a1c1-8ad25c7b4858",
   "metadata": {
    "tags": []
   },
   "outputs": [
    {
     "data": {
      "text/latex": [
       "$\\displaystyle \\omega_{ZX}^{(4)} = J \\Omega^{3} \\left(\\frac{\\left({\\nu^c}_{1,2}\\right)^{2} \\left({\\nu^c}_{2,3}\\right)^{2} {\\nu^t}_{0,1}}{96 \\left({\\Delta^{3}_{1}}\\right)^{2} \\left({\\Delta^{2}_{1}} + {\\Delta^{3}_{1}}\\right)} - \\frac{\\left({\\nu^c}_{1,2}\\right)^{2} \\left({\\nu^c}_{2,3}\\right)^{2} {\\nu^t}_{0,1}}{32 {\\Delta^{2}_{1}} {\\Delta^{3}_{1}} \\left({\\Delta^{2}_{1}} + {\\Delta^{3}_{1}}\\right)} + \\frac{\\left({\\nu^c}_{1,2}\\right)^{2} \\left({\\nu^c}_{2,3}\\right)^{2} {\\nu^t}_{0,1}}{48 {\\Delta^{2}_{1}} \\left({\\Delta^{3}_{1}}\\right)^{2}} + \\frac{\\left({\\nu^c}_{1,2}\\right)^{2} \\left({\\nu^c}_{2,3}\\right)^{2} {\\nu^t}_{0,1}}{48 \\left({\\Delta^{2}_{1}}\\right)^{2} \\left({\\Delta^{2}_{1}} + {\\Delta^{3}_{1}}\\right)} - \\frac{\\left({\\nu^c}_{1,2}\\right)^{2} \\left({\\nu^c}_{2,3}\\right)^{2} {\\nu^t}_{0,1}}{24 \\left({\\Delta^{2}_{1}}\\right)^{2} {\\Delta^{3}_{1}}} + \\frac{\\left({\\nu^c}_{1,2}\\right)^{4} {\\nu^t}_{0,1}}{8 \\left({\\Delta^{2}_{1}}\\right)^{3}} + \\frac{\\left({\\nu^c}_{0,1}\\right)^{2} \\left({\\nu^c}_{1,2}\\right)^{2} {\\nu^t}_{0,1}}{32 {\\Delta^{1}_{1}} {\\Delta^{2}_{1}} \\left({\\Delta^{1}_{1}} + {\\Delta^{2}_{1}}\\right)} - \\frac{\\left({\\nu^c}_{0,1}\\right)^{2} \\left({\\nu^c}_{1,2}\\right)^{2} {\\nu^t}_{0,1}}{12 {\\Delta^{1}_{1}} \\left({\\Delta^{2}_{1}}\\right)^{2}} - \\frac{\\left({\\nu^c}_{0,1}\\right)^{2} \\left({\\nu^c}_{1,2}\\right)^{2} {\\nu^t}_{0,1}}{32 \\left({\\Delta^{1}_{1}}\\right)^{2} \\left({\\Delta^{1}_{1}} + {\\Delta^{2}_{1}}\\right)} + \\frac{5 \\left({\\nu^c}_{0,1}\\right)^{2} \\left({\\nu^c}_{1,2}\\right)^{2} {\\nu^t}_{0,1}}{48 \\left({\\Delta^{1}_{1}}\\right)^{2} {\\Delta^{2}_{1}}} - \\frac{\\left({\\nu^c}_{0,1}\\right)^{4} {\\nu^t}_{0,1}}{4 \\left({\\Delta^{1}_{1}}\\right)^{3}}\\right)$"
      ],
      "text/plain": [
       "<IPython.core.display.Math object>"
      ]
     },
     "execution_count": 16,
     "metadata": {},
     "output_type": "execute_result"
    }
   ],
   "source": [
    "Math(r'\\omega_{ZX}^{(4)} = ' + latex(f))"
   ]
  },
  {
   "cell_type": "code",
   "execution_count": 42,
   "id": "d63be93c-8823-4432-95ec-75c269e8e2d3",
   "metadata": {
    "tags": []
   },
   "outputs": [],
   "source": [
    "s = list(f.free_symbols)"
   ]
  },
  {
   "cell_type": "code",
   "execution_count": 43,
   "id": "16fcea88-957e-458f-b622-296335cf5581",
   "metadata": {
    "tags": []
   },
   "outputs": [
    {
     "data": {
      "text/plain": [
       "[{\\nu^c}_{1,2},\n",
       " {\\nu^c}_{0,1},\n",
       " {\\nu^t}_{0,1},\n",
       " {\\Delta^{1}_{1}},\n",
       " {\\nu^c}_{2,3},\n",
       " {\\Delta^{2}_{1}},\n",
       " {\\Delta^{3}_{1}}]"
      ]
     },
     "execution_count": 43,
     "metadata": {},
     "output_type": "execute_result"
    }
   ],
   "source": [
    "s"
   ]
  },
  {
   "cell_type": "code",
   "execution_count": null,
   "id": "e12bf261-e5c7-4170-9bf7-bda6b2705e7c",
   "metadata": {},
   "outputs": [],
   "source": [
    "hieff4_omega3 = get_expr_at_order(hieff[4].expand(), tth.drive_amp, 3)"
   ]
  },
  {
   "cell_type": "code",
   "execution_count": 52,
   "id": "19606892-e838-41ef-8f8c-971e7c0b8cc7",
   "metadata": {
    "tags": []
   },
   "outputs": [
    {
     "data": {
      "text/latex": [
       "$\\displaystyle \\frac{J \\left({\\nu^c}_{1,2}\\right)^{2} \\left({\\nu^c}_{2,3}\\right)^{2} {\\nu^t}_{0,1} {{\\left|1c\\right\\rangle }{\\left\\langle 1c\\right|}}\\otimes {{\\left|0t\\right\\rangle }{\\left\\langle 1t\\right|}}}{16 \\left({\\Delta^{2}_{1}}\\right)^{3} + 16 \\left({\\Delta^{2}_{1}}\\right)^{2} {\\Delta^{3}_{1}}}$"
      ],
      "text/plain": [
       "J*{\\nu^c}_{1,2}**2*{\\nu^c}_{2,3}**2*{\\nu^t}_{0,1}*|1c><1c|x|0t><1t|/(16*{\\Delta^{2}_{1}}**3 + 16*{\\Delta^{2}_{1}}**2*{\\Delta^{3}_{1}})"
      ]
     },
     "metadata": {},
     "output_type": "display_data"
    },
    {
     "data": {
      "text/latex": [
       "$\\displaystyle \\frac{J \\left({\\nu^c}_{1,2}\\right)^{2} \\left({\\nu^c}_{2,3}\\right)^{2} {\\nu^t}_{0,1} {{\\left|2c\\right\\rangle }{\\left\\langle 2c\\right|}}\\otimes {{\\left|0t\\right\\rangle }{\\left\\langle 1t\\right|}}}{24 \\left({\\Delta^{2}_{1}}\\right)^{3} + 24 \\left({\\Delta^{2}_{1}}\\right)^{2} {\\Delta^{3}_{1}}}$"
      ],
      "text/plain": [
       "J*{\\nu^c}_{1,2}**2*{\\nu^c}_{2,3}**2*{\\nu^t}_{0,1}*|2c><2c|x|0t><1t|/(24*{\\Delta^{2}_{1}}**3 + 24*{\\Delta^{2}_{1}}**2*{\\Delta^{3}_{1}})"
      ]
     },
     "metadata": {},
     "output_type": "display_data"
    },
    {
     "data": {
      "text/latex": [
       "$\\displaystyle \\frac{J \\left({\\nu^c}_{1,2}\\right)^{2} \\left({\\nu^c}_{2,3}\\right)^{2} {\\nu^t}_{0,1} {{\\left|2c\\right\\rangle }{\\left\\langle 2c\\right|}}\\otimes {{\\left|1t\\right\\rangle }{\\left\\langle 0t\\right|}}}{24 \\left({\\Delta^{2}_{1}}\\right)^{3} + 24 \\left({\\Delta^{2}_{1}}\\right)^{2} {\\Delta^{3}_{1}}}$"
      ],
      "text/plain": [
       "J*{\\nu^c}_{1,2}**2*{\\nu^c}_{2,3}**2*{\\nu^t}_{0,1}*|2c><2c|x|1t><0t|/(24*{\\Delta^{2}_{1}}**3 + 24*{\\Delta^{2}_{1}}**2*{\\Delta^{3}_{1}})"
      ]
     },
     "metadata": {},
     "output_type": "display_data"
    },
    {
     "data": {
      "text/latex": [
       "$\\displaystyle \\frac{J \\left({\\nu^c}_{1,2}\\right)^{2} \\left({\\nu^c}_{2,3}\\right)^{2} {\\nu^t}_{0,1} {{\\left|3c\\right\\rangle }{\\left\\langle 3c\\right|}}\\otimes {{\\left|0t\\right\\rangle }{\\left\\langle 1t\\right|}}}{24 \\left({\\Delta^{2}_{1}}\\right)^{3} + 24 \\left({\\Delta^{2}_{1}}\\right)^{2} {\\Delta^{3}_{1}}}$"
      ],
      "text/plain": [
       "J*{\\nu^c}_{1,2}**2*{\\nu^c}_{2,3}**2*{\\nu^t}_{0,1}*|3c><3c|x|0t><1t|/(24*{\\Delta^{2}_{1}}**3 + 24*{\\Delta^{2}_{1}}**2*{\\Delta^{3}_{1}})"
      ]
     },
     "metadata": {},
     "output_type": "display_data"
    },
    {
     "data": {
      "text/latex": [
       "$\\displaystyle \\frac{J \\left({\\nu^c}_{1,2}\\right)^{2} \\left({\\nu^c}_{2,3}\\right)^{2} {\\nu^t}_{0,1} {{\\left|3c\\right\\rangle }{\\left\\langle 3c\\right|}}\\otimes {{\\left|1t\\right\\rangle }{\\left\\langle 0t\\right|}}}{24 \\left({\\Delta^{2}_{1}}\\right)^{3} + 24 \\left({\\Delta^{2}_{1}}\\right)^{2} {\\Delta^{3}_{1}}}$"
      ],
      "text/plain": [
       "J*{\\nu^c}_{1,2}**2*{\\nu^c}_{2,3}**2*{\\nu^t}_{0,1}*|3c><3c|x|1t><0t|/(24*{\\Delta^{2}_{1}}**3 + 24*{\\Delta^{2}_{1}}**2*{\\Delta^{3}_{1}})"
      ]
     },
     "metadata": {},
     "output_type": "display_data"
    },
    {
     "data": {
      "text/latex": [
       "$\\displaystyle \\frac{J \\left({\\nu^c}_{1,2}\\right)^{2} \\left({\\nu^c}_{2,3}\\right)^{2} {\\nu^t}_{0,1} {{\\left|1c\\right\\rangle }{\\left\\langle 1c\\right|}}\\otimes {{\\left|0t\\right\\rangle }{\\left\\langle 1t\\right|}}}{32 {\\Delta^{2}_{1}} \\left({\\Delta^{3}_{1}}\\right)^{2} + 32 \\left({\\Delta^{3}_{1}}\\right)^{3}}$"
      ],
      "text/plain": [
       "J*{\\nu^c}_{1,2}**2*{\\nu^c}_{2,3}**2*{\\nu^t}_{0,1}*|1c><1c|x|0t><1t|/(32*{\\Delta^{2}_{1}}*{\\Delta^{3}_{1}}**2 + 32*{\\Delta^{3}_{1}}**3)"
      ]
     },
     "metadata": {},
     "output_type": "display_data"
    },
    {
     "data": {
      "text/latex": [
       "$\\displaystyle \\frac{J \\left({\\nu^c}_{1,2}\\right)^{2} \\left({\\nu^c}_{2,3}\\right)^{2} {\\nu^t}_{0,1} {{\\left|1c\\right\\rangle }{\\left\\langle 1c\\right|}}\\otimes {{\\left|1t\\right\\rangle }{\\left\\langle 0t\\right|}}}{32 {\\Delta^{2}_{1}} \\left({\\Delta^{3}_{1}}\\right)^{2} + 32 \\left({\\Delta^{3}_{1}}\\right)^{3}}$"
      ],
      "text/plain": [
       "J*{\\nu^c}_{1,2}**2*{\\nu^c}_{2,3}**2*{\\nu^t}_{0,1}*|1c><1c|x|1t><0t|/(32*{\\Delta^{2}_{1}}*{\\Delta^{3}_{1}}**2 + 32*{\\Delta^{3}_{1}}**3)"
      ]
     },
     "metadata": {},
     "output_type": "display_data"
    },
    {
     "data": {
      "text/latex": [
       "$\\displaystyle \\frac{J \\left({\\nu^c}_{1,2}\\right)^{2} \\left({\\nu^c}_{2,3}\\right)^{2} {\\nu^t}_{0,1} {{\\left|2c\\right\\rangle }{\\left\\langle 2c\\right|}}\\otimes {{\\left|0t\\right\\rangle }{\\left\\langle 1t\\right|}}}{32 {\\Delta^{2}_{1}} \\left({\\Delta^{3}_{1}}\\right)^{2} + 32 \\left({\\Delta^{3}_{1}}\\right)^{3}}$"
      ],
      "text/plain": [
       "J*{\\nu^c}_{1,2}**2*{\\nu^c}_{2,3}**2*{\\nu^t}_{0,1}*|2c><2c|x|0t><1t|/(32*{\\Delta^{2}_{1}}*{\\Delta^{3}_{1}}**2 + 32*{\\Delta^{3}_{1}}**3)"
      ]
     },
     "metadata": {},
     "output_type": "display_data"
    },
    {
     "data": {
      "text/latex": [
       "$\\displaystyle \\frac{J \\left({\\nu^c}_{1,2}\\right)^{2} \\left({\\nu^c}_{2,3}\\right)^{2} {\\nu^t}_{0,1} {{\\left|2c\\right\\rangle }{\\left\\langle 2c\\right|}}\\otimes {{\\left|1t\\right\\rangle }{\\left\\langle 0t\\right|}}}{32 {\\Delta^{2}_{1}} \\left({\\Delta^{3}_{1}}\\right)^{2} + 32 \\left({\\Delta^{3}_{1}}\\right)^{3}}$"
      ],
      "text/plain": [
       "J*{\\nu^c}_{1,2}**2*{\\nu^c}_{2,3}**2*{\\nu^t}_{0,1}*|2c><2c|x|1t><0t|/(32*{\\Delta^{2}_{1}}*{\\Delta^{3}_{1}}**2 + 32*{\\Delta^{3}_{1}}**3)"
      ]
     },
     "metadata": {},
     "output_type": "display_data"
    },
    {
     "data": {
      "text/latex": [
       "$\\displaystyle \\frac{J \\left({\\nu^c}_{1,2}\\right)^{2} \\left({\\nu^c}_{2,3}\\right)^{2} {\\nu^t}_{0,1} {{\\left|1c\\right\\rangle }{\\left\\langle 1c\\right|}}\\otimes {{\\left|0t\\right\\rangle }{\\left\\langle 1t\\right|}}}{8 \\left({\\Delta^{2}_{1}}\\right)^{2} {\\Delta^{3}_{1}} + 8 {\\Delta^{2}_{1}} \\left({\\Delta^{3}_{1}}\\right)^{2}}$"
      ],
      "text/plain": [
       "J*{\\nu^c}_{1,2}**2*{\\nu^c}_{2,3}**2*{\\nu^t}_{0,1}*|1c><1c|x|0t><1t|/(8*{\\Delta^{2}_{1}}**2*{\\Delta^{3}_{1}} + 8*{\\Delta^{2}_{1}}*{\\Delta^{3}_{1}}**2)"
      ]
     },
     "metadata": {},
     "output_type": "display_data"
    },
    {
     "data": {
      "text/latex": [
       "$\\displaystyle \\frac{J \\left({\\nu^c}_{1,2}\\right)^{2} \\left({\\nu^c}_{2,3}\\right)^{2} {\\nu^t}_{0,1} {{\\left|1c\\right\\rangle }{\\left\\langle 1c\\right|}}\\otimes {{\\left|1t\\right\\rangle }{\\left\\langle 0t\\right|}}}{8 \\left({\\Delta^{2}_{1}}\\right)^{2} {\\Delta^{3}_{1}} + 8 {\\Delta^{2}_{1}} \\left({\\Delta^{3}_{1}}\\right)^{2}}$"
      ],
      "text/plain": [
       "J*{\\nu^c}_{1,2}**2*{\\nu^c}_{2,3}**2*{\\nu^t}_{0,1}*|1c><1c|x|1t><0t|/(8*{\\Delta^{2}_{1}}**2*{\\Delta^{3}_{1}} + 8*{\\Delta^{2}_{1}}*{\\Delta^{3}_{1}}**2)"
      ]
     },
     "metadata": {},
     "output_type": "display_data"
    },
    {
     "data": {
      "text/latex": [
       "$\\displaystyle \\frac{J \\left({\\nu^c}_{1,2}\\right)^{2} \\left({\\nu^c}_{2,3}\\right)^{2} {\\nu^t}_{0,1} {{\\left|3c\\right\\rangle }{\\left\\langle 3c\\right|}}\\otimes {{\\left|1t\\right\\rangle }{\\left\\langle 0t\\right|}}}{16 \\left({\\Delta^{2}_{1}}\\right)^{2} {\\Delta^{3}_{1}} + 16 {\\Delta^{2}_{1}} \\left({\\Delta^{3}_{1}}\\right)^{2}}$"
      ],
      "text/plain": [
       "J*{\\nu^c}_{1,2}**2*{\\nu^c}_{2,3}**2*{\\nu^t}_{0,1}*|3c><3c|x|1t><0t|/(16*{\\Delta^{2}_{1}}**2*{\\Delta^{3}_{1}} + 16*{\\Delta^{2}_{1}}*{\\Delta^{3}_{1}}**2)"
      ]
     },
     "metadata": {},
     "output_type": "display_data"
    },
    {
     "data": {
      "text/latex": [
       "$\\displaystyle \\frac{J \\left({\\nu^c}_{1,2}\\right)^{2} \\left({\\nu^c}_{2,3}\\right)^{2} {\\nu^t}_{0,1} {{\\left|3c\\right\\rangle }{\\left\\langle 3c\\right|}}\\otimes {{\\left|1t\\right\\rangle }{\\left\\langle 0t\\right|}}}{32 \\left({\\Delta^{2}_{1}}\\right)^{2} {\\Delta^{3}_{1}} + 32 {\\Delta^{2}_{1}} \\left({\\Delta^{3}_{1}}\\right)^{2}}$"
      ],
      "text/plain": [
       "J*{\\nu^c}_{1,2}**2*{\\nu^c}_{2,3}**2*{\\nu^t}_{0,1}*|3c><3c|x|1t><0t|/(32*{\\Delta^{2}_{1}}**2*{\\Delta^{3}_{1}} + 32*{\\Delta^{2}_{1}}*{\\Delta^{3}_{1}}**2)"
      ]
     },
     "metadata": {},
     "output_type": "display_data"
    },
    {
     "data": {
      "text/latex": [
       "$\\displaystyle - \\frac{J \\left({\\nu^c}_{1,2}\\right)^{2} \\left({\\nu^c}_{2,3}\\right)^{2} {\\nu^t}_{0,1} {{\\left|3c\\right\\rangle }{\\left\\langle 3c\\right|}}\\otimes {{\\left|0t\\right\\rangle }{\\left\\langle 1t\\right|}}}{16 {\\Delta^{2}_{1}} \\left({\\Delta^{3}_{1}}\\right)^{2} + 16 \\left({\\Delta^{3}_{1}}\\right)^{3}}$"
      ],
      "text/plain": [
       "-J*{\\nu^c}_{1,2}**2*{\\nu^c}_{2,3}**2*{\\nu^t}_{0,1}*|3c><3c|x|0t><1t|/(16*{\\Delta^{2}_{1}}*{\\Delta^{3}_{1}}**2 + 16*{\\Delta^{3}_{1}}**3)"
      ]
     },
     "metadata": {},
     "output_type": "display_data"
    },
    {
     "data": {
      "text/latex": [
       "$\\displaystyle - \\frac{J \\left({\\nu^c}_{1,2}\\right)^{2} \\left({\\nu^c}_{2,3}\\right)^{2} {\\nu^t}_{0,1} {{\\left|1c\\right\\rangle }{\\left\\langle 1c\\right|}}\\otimes {{\\left|0t\\right\\rangle }{\\left\\langle 1t\\right|}}}{24 {\\Delta^{2}_{1}} \\left({\\Delta^{3}_{1}}\\right)^{2} + 24 \\left({\\Delta^{3}_{1}}\\right)^{3}}$"
      ],
      "text/plain": [
       "-J*{\\nu^c}_{1,2}**2*{\\nu^c}_{2,3}**2*{\\nu^t}_{0,1}*|1c><1c|x|0t><1t|/(24*{\\Delta^{2}_{1}}*{\\Delta^{3}_{1}}**2 + 24*{\\Delta^{3}_{1}}**3)"
      ]
     },
     "metadata": {},
     "output_type": "display_data"
    },
    {
     "data": {
      "text/latex": [
       "$\\displaystyle - \\frac{J \\left({\\nu^c}_{1,2}\\right)^{2} \\left({\\nu^c}_{2,3}\\right)^{2} {\\nu^t}_{0,1} {{\\left|1c\\right\\rangle }{\\left\\langle 1c\\right|}}\\otimes {{\\left|1t\\right\\rangle }{\\left\\langle 0t\\right|}}}{24 {\\Delta^{2}_{1}} \\left({\\Delta^{3}_{1}}\\right)^{2} + 24 \\left({\\Delta^{3}_{1}}\\right)^{3}}$"
      ],
      "text/plain": [
       "-J*{\\nu^c}_{1,2}**2*{\\nu^c}_{2,3}**2*{\\nu^t}_{0,1}*|1c><1c|x|1t><0t|/(24*{\\Delta^{2}_{1}}*{\\Delta^{3}_{1}}**2 + 24*{\\Delta^{3}_{1}}**3)"
      ]
     },
     "metadata": {},
     "output_type": "display_data"
    },
    {
     "data": {
      "text/latex": [
       "$\\displaystyle - \\frac{J \\left({\\nu^c}_{1,2}\\right)^{2} \\left({\\nu^c}_{2,3}\\right)^{2} {\\nu^t}_{0,1} {{\\left|2c\\right\\rangle }{\\left\\langle 2c\\right|}}\\otimes {{\\left|0t\\right\\rangle }{\\left\\langle 1t\\right|}}}{24 {\\Delta^{2}_{1}} \\left({\\Delta^{3}_{1}}\\right)^{2} + 24 \\left({\\Delta^{3}_{1}}\\right)^{3}}$"
      ],
      "text/plain": [
       "-J*{\\nu^c}_{1,2}**2*{\\nu^c}_{2,3}**2*{\\nu^t}_{0,1}*|2c><2c|x|0t><1t|/(24*{\\Delta^{2}_{1}}*{\\Delta^{3}_{1}}**2 + 24*{\\Delta^{3}_{1}}**3)"
      ]
     },
     "metadata": {},
     "output_type": "display_data"
    },
    {
     "data": {
      "text/latex": [
       "$\\displaystyle - \\frac{J \\left({\\nu^c}_{1,2}\\right)^{2} \\left({\\nu^c}_{2,3}\\right)^{2} {\\nu^t}_{0,1} {{\\left|2c\\right\\rangle }{\\left\\langle 2c\\right|}}\\otimes {{\\left|1t\\right\\rangle }{\\left\\langle 0t\\right|}}}{24 {\\Delta^{2}_{1}} \\left({\\Delta^{3}_{1}}\\right)^{2} + 24 \\left({\\Delta^{3}_{1}}\\right)^{3}}$"
      ],
      "text/plain": [
       "-J*{\\nu^c}_{1,2}**2*{\\nu^c}_{2,3}**2*{\\nu^t}_{0,1}*|2c><2c|x|1t><0t|/(24*{\\Delta^{2}_{1}}*{\\Delta^{3}_{1}}**2 + 24*{\\Delta^{3}_{1}}**3)"
      ]
     },
     "metadata": {},
     "output_type": "display_data"
    },
    {
     "data": {
      "text/latex": [
       "$\\displaystyle - \\frac{J \\left({\\nu^c}_{1,2}\\right)^{2} \\left({\\nu^c}_{2,3}\\right)^{2} {\\nu^t}_{0,1} {{\\left|2c\\right\\rangle }{\\left\\langle 2c\\right|}}\\otimes {{\\left|0t\\right\\rangle }{\\left\\langle 1t\\right|}}}{32 \\left({\\Delta^{2}_{1}}\\right)^{3} + 32 \\left({\\Delta^{2}_{1}}\\right)^{2} {\\Delta^{3}_{1}}}$"
      ],
      "text/plain": [
       "-J*{\\nu^c}_{1,2}**2*{\\nu^c}_{2,3}**2*{\\nu^t}_{0,1}*|2c><2c|x|0t><1t|/(32*{\\Delta^{2}_{1}}**3 + 32*{\\Delta^{2}_{1}}**2*{\\Delta^{3}_{1}})"
      ]
     },
     "metadata": {},
     "output_type": "display_data"
    },
    {
     "data": {
      "text/latex": [
       "$\\displaystyle - \\frac{J \\left({\\nu^c}_{1,2}\\right)^{2} \\left({\\nu^c}_{2,3}\\right)^{2} {\\nu^t}_{0,1} {{\\left|2c\\right\\rangle }{\\left\\langle 2c\\right|}}\\otimes {{\\left|1t\\right\\rangle }{\\left\\langle 0t\\right|}}}{32 \\left({\\Delta^{2}_{1}}\\right)^{3} + 32 \\left({\\Delta^{2}_{1}}\\right)^{2} {\\Delta^{3}_{1}}}$"
      ],
      "text/plain": [
       "-J*{\\nu^c}_{1,2}**2*{\\nu^c}_{2,3}**2*{\\nu^t}_{0,1}*|2c><2c|x|1t><0t|/(32*{\\Delta^{2}_{1}}**3 + 32*{\\Delta^{2}_{1}}**2*{\\Delta^{3}_{1}})"
      ]
     },
     "metadata": {},
     "output_type": "display_data"
    },
    {
     "data": {
      "text/latex": [
       "$\\displaystyle - \\frac{J \\left({\\nu^c}_{1,2}\\right)^{2} \\left({\\nu^c}_{2,3}\\right)^{2} {\\nu^t}_{0,1} {{\\left|3c\\right\\rangle }{\\left\\langle 3c\\right|}}\\otimes {{\\left|0t\\right\\rangle }{\\left\\langle 1t\\right|}}}{32 \\left({\\Delta^{2}_{1}}\\right)^{3} + 32 \\left({\\Delta^{2}_{1}}\\right)^{2} {\\Delta^{3}_{1}}}$"
      ],
      "text/plain": [
       "-J*{\\nu^c}_{1,2}**2*{\\nu^c}_{2,3}**2*{\\nu^t}_{0,1}*|3c><3c|x|0t><1t|/(32*{\\Delta^{2}_{1}}**3 + 32*{\\Delta^{2}_{1}}**2*{\\Delta^{3}_{1}})"
      ]
     },
     "metadata": {},
     "output_type": "display_data"
    },
    {
     "data": {
      "text/latex": [
       "$\\displaystyle - \\frac{J \\left({\\nu^c}_{1,2}\\right)^{2} \\left({\\nu^c}_{2,3}\\right)^{2} {\\nu^t}_{0,1} {{\\left|3c\\right\\rangle }{\\left\\langle 3c\\right|}}\\otimes {{\\left|1t\\right\\rangle }{\\left\\langle 0t\\right|}}}{32 \\left({\\Delta^{2}_{1}}\\right)^{3} + 32 \\left({\\Delta^{2}_{1}}\\right)^{2} {\\Delta^{3}_{1}}}$"
      ],
      "text/plain": [
       "-J*{\\nu^c}_{1,2}**2*{\\nu^c}_{2,3}**2*{\\nu^t}_{0,1}*|3c><3c|x|1t><0t|/(32*{\\Delta^{2}_{1}}**3 + 32*{\\Delta^{2}_{1}}**2*{\\Delta^{3}_{1}})"
      ]
     },
     "metadata": {},
     "output_type": "display_data"
    },
    {
     "data": {
      "text/latex": [
       "$\\displaystyle - \\frac{J \\left({\\nu^c}_{1,2}\\right)^{2} \\left({\\nu^c}_{2,3}\\right)^{2} {\\nu^t}_{0,1} {{\\left|3c\\right\\rangle }{\\left\\langle 3c\\right|}}\\otimes {{\\left|0t\\right\\rangle }{\\left\\langle 1t\\right|}}}{8 \\left({\\Delta^{2}_{1}}\\right)^{2} {\\Delta^{3}_{1}} + 8 {\\Delta^{2}_{1}} \\left({\\Delta^{3}_{1}}\\right)^{2}}$"
      ],
      "text/plain": [
       "-J*{\\nu^c}_{1,2}**2*{\\nu^c}_{2,3}**2*{\\nu^t}_{0,1}*|3c><3c|x|0t><1t|/(8*{\\Delta^{2}_{1}}**2*{\\Delta^{3}_{1}} + 8*{\\Delta^{2}_{1}}*{\\Delta^{3}_{1}}**2)"
      ]
     },
     "metadata": {},
     "output_type": "display_data"
    },
    {
     "data": {
      "text/latex": [
       "$\\displaystyle - \\frac{J \\left({\\nu^c}_{1,2}\\right)^{2} \\left({\\nu^c}_{2,3}\\right)^{2} {\\nu^t}_{0,1} {{\\left|3c\\right\\rangle }{\\left\\langle 3c\\right|}}\\otimes {{\\left|1t\\right\\rangle }{\\left\\langle 0t\\right|}}}{8 \\left({\\Delta^{2}_{1}}\\right)^{2} {\\Delta^{3}_{1}} + 8 {\\Delta^{2}_{1}} \\left({\\Delta^{3}_{1}}\\right)^{2}}$"
      ],
      "text/plain": [
       "-J*{\\nu^c}_{1,2}**2*{\\nu^c}_{2,3}**2*{\\nu^t}_{0,1}*|3c><3c|x|1t><0t|/(8*{\\Delta^{2}_{1}}**2*{\\Delta^{3}_{1}} + 8*{\\Delta^{2}_{1}}*{\\Delta^{3}_{1}}**2)"
      ]
     },
     "metadata": {},
     "output_type": "display_data"
    },
    {
     "data": {
      "text/latex": [
       "$\\displaystyle - \\frac{J \\left({\\nu^c}_{1,2}\\right)^{2} \\left({\\nu^c}_{2,3}\\right)^{2} {\\nu^t}_{0,1} {{\\left|1c\\right\\rangle }{\\left\\langle 1c\\right|}}\\otimes {{\\left|1t\\right\\rangle }{\\left\\langle 0t\\right|}}}{16 \\left({\\Delta^{2}_{1}}\\right)^{2} {\\Delta^{3}_{1}} + 16 {\\Delta^{2}_{1}} \\left({\\Delta^{3}_{1}}\\right)^{2}}$"
      ],
      "text/plain": [
       "-J*{\\nu^c}_{1,2}**2*{\\nu^c}_{2,3}**2*{\\nu^t}_{0,1}*|1c><1c|x|1t><0t|/(16*{\\Delta^{2}_{1}}**2*{\\Delta^{3}_{1}} + 16*{\\Delta^{2}_{1}}*{\\Delta^{3}_{1}}**2)"
      ]
     },
     "metadata": {},
     "output_type": "display_data"
    },
    {
     "data": {
      "text/latex": [
       "$\\displaystyle - \\frac{J \\left({\\nu^c}_{1,2}\\right)^{2} \\left({\\nu^c}_{2,3}\\right)^{2} {\\nu^t}_{0,1} {{\\left|1c\\right\\rangle }{\\left\\langle 1c\\right|}}\\otimes {{\\left|1t\\right\\rangle }{\\left\\langle 0t\\right|}}}{32 \\left({\\Delta^{2}_{1}}\\right)^{2} {\\Delta^{3}_{1}} + 32 {\\Delta^{2}_{1}} \\left({\\Delta^{3}_{1}}\\right)^{2}}$"
      ],
      "text/plain": [
       "-J*{\\nu^c}_{1,2}**2*{\\nu^c}_{2,3}**2*{\\nu^t}_{0,1}*|1c><1c|x|1t><0t|/(32*{\\Delta^{2}_{1}}**2*{\\Delta^{3}_{1}} + 32*{\\Delta^{2}_{1}}*{\\Delta^{3}_{1}}**2)"
      ]
     },
     "metadata": {},
     "output_type": "display_data"
    },
    {
     "data": {
      "text/latex": [
       "$\\displaystyle - \\frac{3 J \\left({\\nu^c}_{1,2}\\right)^{2} \\left({\\nu^c}_{2,3}\\right)^{2} {\\nu^t}_{0,1} {{\\left|1c\\right\\rangle }{\\left\\langle 1c\\right|}}\\otimes {{\\left|0t\\right\\rangle }{\\left\\langle 1t\\right|}}}{32 \\left({\\Delta^{2}_{1}}\\right)^{2} {\\Delta^{3}_{1}} + 32 {\\Delta^{2}_{1}} \\left({\\Delta^{3}_{1}}\\right)^{2}}$"
      ],
      "text/plain": [
       "-3*J*{\\nu^c}_{1,2}**2*{\\nu^c}_{2,3}**2*{\\nu^t}_{0,1}*|1c><1c|x|0t><1t|/(32*{\\Delta^{2}_{1}}**2*{\\Delta^{3}_{1}} + 32*{\\Delta^{2}_{1}}*{\\Delta^{3}_{1}}**2)"
      ]
     },
     "metadata": {},
     "output_type": "display_data"
    },
    {
     "data": {
      "text/latex": [
       "$\\displaystyle - \\frac{2 J \\left({\\nu^c}_{1,2}\\right)^{2} \\left({\\nu^c}_{2,3}\\right)^{2} {\\nu^t}_{0,1} {{\\left|1c\\right\\rangle }{\\left\\langle 1c\\right|}}\\otimes {{\\left|0t\\right\\rangle }{\\left\\langle 1t\\right|}}}{24 \\left({\\Delta^{2}_{1}}\\right)^{3} + 24 \\left({\\Delta^{2}_{1}}\\right)^{2} {\\Delta^{3}_{1}}}$"
      ],
      "text/plain": [
       "-2*J*{\\nu^c}_{1,2}**2*{\\nu^c}_{2,3}**2*{\\nu^t}_{0,1}*|1c><1c|x|0t><1t|/(24*{\\Delta^{2}_{1}}**3 + 24*{\\Delta^{2}_{1}}**2*{\\Delta^{3}_{1}})"
      ]
     },
     "metadata": {},
     "output_type": "display_data"
    },
    {
     "data": {
      "text/latex": [
       "$\\displaystyle - \\frac{2 J \\left({\\nu^c}_{1,2}\\right)^{2} \\left({\\nu^c}_{2,3}\\right)^{2} {\\nu^t}_{0,1} {{\\left|1c\\right\\rangle }{\\left\\langle 1c\\right|}}\\otimes {{\\left|1t\\right\\rangle }{\\left\\langle 0t\\right|}}}{24 \\left({\\Delta^{2}_{1}}\\right)^{3} + 24 \\left({\\Delta^{2}_{1}}\\right)^{2} {\\Delta^{3}_{1}}}$"
      ],
      "text/plain": [
       "-2*J*{\\nu^c}_{1,2}**2*{\\nu^c}_{2,3}**2*{\\nu^t}_{0,1}*|1c><1c|x|1t><0t|/(24*{\\Delta^{2}_{1}}**3 + 24*{\\Delta^{2}_{1}}**2*{\\Delta^{3}_{1}})"
      ]
     },
     "metadata": {},
     "output_type": "display_data"
    },
    {
     "data": {
      "text/latex": [
       "$\\displaystyle - \\frac{2 J \\left({\\nu^c}_{1,2}\\right)^{2} \\left({\\nu^c}_{2,3}\\right)^{2} {\\nu^t}_{0,1} {{\\left|3c\\right\\rangle }{\\left\\langle 3c\\right|}}\\otimes {{\\left|1t\\right\\rangle }{\\left\\langle 0t\\right|}}}{32 {\\Delta^{2}_{1}} \\left({\\Delta^{3}_{1}}\\right)^{2} + 32 \\left({\\Delta^{3}_{1}}\\right)^{3}}$"
      ],
      "text/plain": [
       "-2*J*{\\nu^c}_{1,2}**2*{\\nu^c}_{2,3}**2*{\\nu^t}_{0,1}*|3c><3c|x|1t><0t|/(32*{\\Delta^{2}_{1}}*{\\Delta^{3}_{1}}**2 + 32*{\\Delta^{3}_{1}}**3)"
      ]
     },
     "metadata": {},
     "output_type": "display_data"
    },
    {
     "data": {
      "text/latex": [
       "$\\displaystyle \\frac{2 J \\left({\\nu^c}_{1,2}\\right)^{2} \\left({\\nu^c}_{2,3}\\right)^{2} {\\nu^t}_{0,1} {{\\left|3c\\right\\rangle }{\\left\\langle 3c\\right|}}\\otimes {{\\left|0t\\right\\rangle }{\\left\\langle 1t\\right|}}}{24 {\\Delta^{2}_{1}} \\left({\\Delta^{3}_{1}}\\right)^{2} + 24 \\left({\\Delta^{3}_{1}}\\right)^{3}}$"
      ],
      "text/plain": [
       "2*J*{\\nu^c}_{1,2}**2*{\\nu^c}_{2,3}**2*{\\nu^t}_{0,1}*|3c><3c|x|0t><1t|/(24*{\\Delta^{2}_{1}}*{\\Delta^{3}_{1}}**2 + 24*{\\Delta^{3}_{1}}**3)"
      ]
     },
     "metadata": {},
     "output_type": "display_data"
    },
    {
     "data": {
      "text/latex": [
       "$\\displaystyle \\frac{2 J \\left({\\nu^c}_{1,2}\\right)^{2} \\left({\\nu^c}_{2,3}\\right)^{2} {\\nu^t}_{0,1} {{\\left|3c\\right\\rangle }{\\left\\langle 3c\\right|}}\\otimes {{\\left|1t\\right\\rangle }{\\left\\langle 0t\\right|}}}{24 {\\Delta^{2}_{1}} \\left({\\Delta^{3}_{1}}\\right)^{2} + 24 \\left({\\Delta^{3}_{1}}\\right)^{3}}$"
      ],
      "text/plain": [
       "2*J*{\\nu^c}_{1,2}**2*{\\nu^c}_{2,3}**2*{\\nu^t}_{0,1}*|3c><3c|x|1t><0t|/(24*{\\Delta^{2}_{1}}*{\\Delta^{3}_{1}}**2 + 24*{\\Delta^{3}_{1}}**3)"
      ]
     },
     "metadata": {},
     "output_type": "display_data"
    },
    {
     "data": {
      "text/latex": [
       "$\\displaystyle \\frac{2 J \\left({\\nu^c}_{1,2}\\right)^{2} \\left({\\nu^c}_{2,3}\\right)^{2} {\\nu^t}_{0,1} {{\\left|1c\\right\\rangle }{\\left\\langle 1c\\right|}}\\otimes {{\\left|1t\\right\\rangle }{\\left\\langle 0t\\right|}}}{32 \\left({\\Delta^{2}_{1}}\\right)^{3} + 32 \\left({\\Delta^{2}_{1}}\\right)^{2} {\\Delta^{3}_{1}}}$"
      ],
      "text/plain": [
       "2*J*{\\nu^c}_{1,2}**2*{\\nu^c}_{2,3}**2*{\\nu^t}_{0,1}*|1c><1c|x|1t><0t|/(32*{\\Delta^{2}_{1}}**3 + 32*{\\Delta^{2}_{1}}**2*{\\Delta^{3}_{1}})"
      ]
     },
     "metadata": {},
     "output_type": "display_data"
    },
    {
     "data": {
      "text/latex": [
       "$\\displaystyle \\frac{3 J \\left({\\nu^c}_{1,2}\\right)^{2} \\left({\\nu^c}_{2,3}\\right)^{2} {\\nu^t}_{0,1} {{\\left|3c\\right\\rangle }{\\left\\langle 3c\\right|}}\\otimes {{\\left|0t\\right\\rangle }{\\left\\langle 1t\\right|}}}{32 \\left({\\Delta^{2}_{1}}\\right)^{2} {\\Delta^{3}_{1}} + 32 {\\Delta^{2}_{1}} \\left({\\Delta^{3}_{1}}\\right)^{2}}$"
      ],
      "text/plain": [
       "3*J*{\\nu^c}_{1,2}**2*{\\nu^c}_{2,3}**2*{\\nu^t}_{0,1}*|3c><3c|x|0t><1t|/(32*{\\Delta^{2}_{1}}**2*{\\Delta^{3}_{1}} + 32*{\\Delta^{2}_{1}}*{\\Delta^{3}_{1}}**2)"
      ]
     },
     "metadata": {},
     "output_type": "display_data"
    },
    {
     "data": {
      "text/latex": [
       "$\\displaystyle - \\frac{J \\left({\\nu^c}_{1,2}\\right)^{2} \\left({\\nu^c}_{2,3}\\right)^{2} {\\nu^t}_{0,1} {{\\left|2c\\right\\rangle }{\\left\\langle 2c\\right|}}\\otimes {{\\left|0t\\right\\rangle }{\\left\\langle 1t\\right|}}}{16 \\left({\\Delta^{2}_{1}}\\right)^{2} {\\Delta^{3}_{1}}}$"
      ],
      "text/plain": [
       "-J*{\\nu^c}_{1,2}**2*{\\nu^c}_{2,3}**2*{\\nu^t}_{0,1}*|2c><2c|x|0t><1t|/(16*{\\Delta^{2}_{1}}**2*{\\Delta^{3}_{1}})"
      ]
     },
     "metadata": {},
     "output_type": "display_data"
    },
    {
     "data": {
      "text/latex": [
       "$\\displaystyle - \\frac{J \\left({\\nu^c}_{1,2}\\right)^{2} \\left({\\nu^c}_{2,3}\\right)^{2} {\\nu^t}_{0,1} {{\\left|2c\\right\\rangle }{\\left\\langle 2c\\right|}}\\otimes {{\\left|1t\\right\\rangle }{\\left\\langle 0t\\right|}}}{16 \\left({\\Delta^{2}_{1}}\\right)^{2} {\\Delta^{3}_{1}}}$"
      ],
      "text/plain": [
       "-J*{\\nu^c}_{1,2}**2*{\\nu^c}_{2,3}**2*{\\nu^t}_{0,1}*|2c><2c|x|1t><0t|/(16*{\\Delta^{2}_{1}}**2*{\\Delta^{3}_{1}})"
      ]
     },
     "metadata": {},
     "output_type": "display_data"
    },
    {
     "data": {
      "text/latex": [
       "$\\displaystyle - \\frac{J \\left({\\nu^c}_{1,2}\\right)^{2} \\left({\\nu^c}_{2,3}\\right)^{2} {\\nu^t}_{0,1} {{\\left|3c\\right\\rangle }{\\left\\langle 3c\\right|}}\\otimes {{\\left|0t\\right\\rangle }{\\left\\langle 1t\\right|}}}{24 {\\Delta^{2}_{1}} \\left({\\Delta^{3}_{1}}\\right)^{2}}$"
      ],
      "text/plain": [
       "-J*{\\nu^c}_{1,2}**2*{\\nu^c}_{2,3}**2*{\\nu^t}_{0,1}*|3c><3c|x|0t><1t|/(24*{\\Delta^{2}_{1}}*{\\Delta^{3}_{1}}**2)"
      ]
     },
     "metadata": {},
     "output_type": "display_data"
    },
    {
     "data": {
      "text/latex": [
       "$\\displaystyle - \\frac{J \\left({\\nu^c}_{1,2}\\right)^{2} \\left({\\nu^c}_{2,3}\\right)^{2} {\\nu^t}_{0,1} {{\\left|3c\\right\\rangle }{\\left\\langle 3c\\right|}}\\otimes {{\\left|1t\\right\\rangle }{\\left\\langle 0t\\right|}}}{24 {\\Delta^{2}_{1}} \\left({\\Delta^{3}_{1}}\\right)^{2}}$"
      ],
      "text/plain": [
       "-J*{\\nu^c}_{1,2}**2*{\\nu^c}_{2,3}**2*{\\nu^t}_{0,1}*|3c><3c|x|1t><0t|/(24*{\\Delta^{2}_{1}}*{\\Delta^{3}_{1}}**2)"
      ]
     },
     "metadata": {},
     "output_type": "display_data"
    },
    {
     "data": {
      "text/latex": [
       "$\\displaystyle - \\frac{J \\left({\\nu^c}_{1,2}\\right)^{2} \\left({\\nu^c}_{2,3}\\right)^{2} {\\nu^t}_{0,1} {{\\left|1c\\right\\rangle }{\\left\\langle 1c\\right|}}\\otimes {{\\left|0t\\right\\rangle }{\\left\\langle 1t\\right|}}}{48 {\\Delta^{2}_{1}} \\left({\\Delta^{3}_{1}}\\right)^{2}}$"
      ],
      "text/plain": [
       "-J*{\\nu^c}_{1,2}**2*{\\nu^c}_{2,3}**2*{\\nu^t}_{0,1}*|1c><1c|x|0t><1t|/(48*{\\Delta^{2}_{1}}*{\\Delta^{3}_{1}}**2)"
      ]
     },
     "metadata": {},
     "output_type": "display_data"
    },
    {
     "data": {
      "text/latex": [
       "$\\displaystyle - \\frac{J \\left({\\nu^c}_{1,2}\\right)^{2} \\left({\\nu^c}_{2,3}\\right)^{2} {\\nu^t}_{0,1} {{\\left|1c\\right\\rangle }{\\left\\langle 1c\\right|}}\\otimes {{\\left|1t\\right\\rangle }{\\left\\langle 0t\\right|}}}{48 {\\Delta^{2}_{1}} \\left({\\Delta^{3}_{1}}\\right)^{2}}$"
      ],
      "text/plain": [
       "-J*{\\nu^c}_{1,2}**2*{\\nu^c}_{2,3}**2*{\\nu^t}_{0,1}*|1c><1c|x|1t><0t|/(48*{\\Delta^{2}_{1}}*{\\Delta^{3}_{1}}**2)"
      ]
     },
     "metadata": {},
     "output_type": "display_data"
    },
    {
     "data": {
      "text/latex": [
       "$\\displaystyle \\frac{J \\left({\\nu^c}_{1,2}\\right)^{2} \\left({\\nu^c}_{2,3}\\right)^{2} {\\nu^t}_{0,1} {{\\left|2c\\right\\rangle }{\\left\\langle 2c\\right|}}\\otimes {{\\left|0t\\right\\rangle }{\\left\\langle 1t\\right|}}}{16 {\\Delta^{2}_{1}} \\left({\\Delta^{3}_{1}}\\right)^{2}}$"
      ],
      "text/plain": [
       "J*{\\nu^c}_{1,2}**2*{\\nu^c}_{2,3}**2*{\\nu^t}_{0,1}*|2c><2c|x|0t><1t|/(16*{\\Delta^{2}_{1}}*{\\Delta^{3}_{1}}**2)"
      ]
     },
     "metadata": {},
     "output_type": "display_data"
    },
    {
     "data": {
      "text/latex": [
       "$\\displaystyle \\frac{J \\left({\\nu^c}_{1,2}\\right)^{2} \\left({\\nu^c}_{2,3}\\right)^{2} {\\nu^t}_{0,1} {{\\left|2c\\right\\rangle }{\\left\\langle 2c\\right|}}\\otimes {{\\left|1t\\right\\rangle }{\\left\\langle 0t\\right|}}}{16 {\\Delta^{2}_{1}} \\left({\\Delta^{3}_{1}}\\right)^{2}}$"
      ],
      "text/plain": [
       "J*{\\nu^c}_{1,2}**2*{\\nu^c}_{2,3}**2*{\\nu^t}_{0,1}*|2c><2c|x|1t><0t|/(16*{\\Delta^{2}_{1}}*{\\Delta^{3}_{1}}**2)"
      ]
     },
     "metadata": {},
     "output_type": "display_data"
    },
    {
     "data": {
      "text/latex": [
       "$\\displaystyle \\frac{J \\left({\\nu^c}_{1,2}\\right)^{2} \\left({\\nu^c}_{2,3}\\right)^{2} {\\nu^t}_{0,1} {{\\left|1c\\right\\rangle }{\\left\\langle 1c\\right|}}\\otimes {{\\left|0t\\right\\rangle }{\\left\\langle 1t\\right|}}}{24 \\left({\\Delta^{2}_{1}}\\right)^{2} {\\Delta^{3}_{1}}}$"
      ],
      "text/plain": [
       "J*{\\nu^c}_{1,2}**2*{\\nu^c}_{2,3}**2*{\\nu^t}_{0,1}*|1c><1c|x|0t><1t|/(24*{\\Delta^{2}_{1}}**2*{\\Delta^{3}_{1}})"
      ]
     },
     "metadata": {},
     "output_type": "display_data"
    },
    {
     "data": {
      "text/latex": [
       "$\\displaystyle \\frac{J \\left({\\nu^c}_{1,2}\\right)^{2} \\left({\\nu^c}_{2,3}\\right)^{2} {\\nu^t}_{0,1} {{\\left|1c\\right\\rangle }{\\left\\langle 1c\\right|}}\\otimes {{\\left|1t\\right\\rangle }{\\left\\langle 0t\\right|}}}{24 \\left({\\Delta^{2}_{1}}\\right)^{2} {\\Delta^{3}_{1}}}$"
      ],
      "text/plain": [
       "J*{\\nu^c}_{1,2}**2*{\\nu^c}_{2,3}**2*{\\nu^t}_{0,1}*|1c><1c|x|1t><0t|/(24*{\\Delta^{2}_{1}}**2*{\\Delta^{3}_{1}})"
      ]
     },
     "metadata": {},
     "output_type": "display_data"
    },
    {
     "data": {
      "text/latex": [
       "$\\displaystyle \\frac{J \\left({\\nu^c}_{1,2}\\right)^{2} \\left({\\nu^c}_{2,3}\\right)^{2} {\\nu^t}_{0,1} {{\\left|3c\\right\\rangle }{\\left\\langle 3c\\right|}}\\otimes {{\\left|0t\\right\\rangle }{\\left\\langle 1t\\right|}}}{48 \\left({\\Delta^{2}_{1}}\\right)^{2} {\\Delta^{3}_{1}}}$"
      ],
      "text/plain": [
       "J*{\\nu^c}_{1,2}**2*{\\nu^c}_{2,3}**2*{\\nu^t}_{0,1}*|3c><3c|x|0t><1t|/(48*{\\Delta^{2}_{1}}**2*{\\Delta^{3}_{1}})"
      ]
     },
     "metadata": {},
     "output_type": "display_data"
    },
    {
     "data": {
      "text/latex": [
       "$\\displaystyle \\frac{J \\left({\\nu^c}_{1,2}\\right)^{2} \\left({\\nu^c}_{2,3}\\right)^{2} {\\nu^t}_{0,1} {{\\left|3c\\right\\rangle }{\\left\\langle 3c\\right|}}\\otimes {{\\left|1t\\right\\rangle }{\\left\\langle 0t\\right|}}}{48 \\left({\\Delta^{2}_{1}}\\right)^{2} {\\Delta^{3}_{1}}}$"
      ],
      "text/plain": [
       "J*{\\nu^c}_{1,2}**2*{\\nu^c}_{2,3}**2*{\\nu^t}_{0,1}*|3c><3c|x|1t><0t|/(48*{\\Delta^{2}_{1}}**2*{\\Delta^{3}_{1}})"
      ]
     },
     "metadata": {},
     "output_type": "display_data"
    }
   ],
   "source": [
    "nuc12 = tth.symbolify(tth.qc._transition_amp(1, 2))\n",
    "nuc23 = tth.symbolify(tth.qc._transition_amp(2, 3))\n",
    "nut01 = tth.symbolify(tth.qt._transition_amp(0, 1))\n",
    "d11 = tth.symbolify(FrequencyDiff(1, 1))\n",
    "for arg in hieff4_omega3.args:\n",
    "    symb = arg.free_symbols\n",
    "    if tvar not in symb and nuc12 in symb and nuc23 in symb and nut01 in symb:\n",
    "        display(arg)"
   ]
  },
  {
   "cell_type": "code",
   "execution_count": 44,
   "id": "5c3d78ba-5c0c-4dbc-99c7-6e3068199ff1",
   "metadata": {
    "tags": []
   },
   "outputs": [
    {
     "data": {
      "text/latex": [
       "$\\displaystyle \\frac{16 \\Delta^{7} + 48 \\Delta^{6} \\alpha - 133 \\Delta^{5} \\alpha^{2} - 799 \\Delta^{4} \\alpha^{3} - 1368 \\Delta^{3} \\alpha^{4} - 1088 \\Delta^{2} \\alpha^{5} - 438 \\Delta \\alpha^{6} - 72 \\alpha^{7}}{24 \\Delta^{3} \\cdot \\left(4 \\Delta^{7} + 36 \\Delta^{6} \\alpha + 135 \\Delta^{5} \\alpha^{2} + 273 \\Delta^{4} \\alpha^{3} + 321 \\Delta^{3} \\alpha^{4} + 219 \\Delta^{2} \\alpha^{5} + 80 \\Delta \\alpha^{6} + 12 \\alpha^{7}\\right)}$"
      ],
      "text/plain": [
       "(16*Delta**7 + 48*Delta**6*alpha - 133*Delta**5*alpha**2 - 799*Delta**4*alpha**3 - 1368*Delta**3*alpha**4 - 1088*Delta**2*alpha**5 - 438*Delta*alpha**6 - 72*alpha**7)/(24*Delta**3*(4*Delta**7 + 36*Delta**6*alpha + 135*Delta**5*alpha**2 + 273*Delta**4*alpha**3 + 321*Delta**3*alpha**4 + 219*Delta**2*alpha**5 + 80*Delta*alpha**6 + 12*alpha**7))"
      ]
     },
     "execution_count": 44,
     "metadata": {},
     "output_type": "execute_result"
    }
   ],
   "source": [
    "from sympy import sqrt\n",
    "simplify(f.subs({s[0]: sqrt(2), s[1]: 1, s[2]: 1, s[3]: d, s[4]: sqrt(3), s[5]: d + a, s[6]: d + 2 * a}))"
   ]
  },
  {
   "cell_type": "code",
   "execution_count": 45,
   "id": "b1103e39-347e-4d0f-9976-5893668dbbcd",
   "metadata": {
    "tags": []
   },
   "outputs": [
    {
     "data": {
      "text/latex": [
       "$\\displaystyle \\frac{\\alpha^{2} \\cdot \\left(9 \\Delta^{3} + 15 \\Delta^{2} \\alpha + 11 \\Delta \\alpha^{2} + 3 \\alpha^{3}\\right)}{2 \\Delta^{3} \\cdot \\left(4 \\Delta^{5} + 20 \\Delta^{4} \\alpha + 39 \\Delta^{3} \\alpha^{2} + 37 \\Delta^{2} \\alpha^{3} + 17 \\Delta \\alpha^{4} + 3 \\alpha^{5}\\right)}$"
      ],
      "text/plain": [
       "alpha**2*(9*Delta**3 + 15*Delta**2*alpha + 11*Delta*alpha**2 + 3*alpha**3)/(2*Delta**3*(4*Delta**5 + 20*Delta**4*alpha + 39*Delta**3*alpha**2 + 37*Delta**2*alpha**3 + 17*Delta*alpha**4 + 3*alpha**5))"
      ]
     },
     "execution_count": 45,
     "metadata": {},
     "output_type": "execute_result"
    }
   ],
   "source": [
    "frac"
   ]
  },
  {
   "cell_type": "code",
   "execution_count": 17,
   "id": "e911e48d-d3d4-4db5-80d4-ee5b42f980ef",
   "metadata": {
    "tags": []
   },
   "outputs": [
    {
     "data": {
      "text/latex": [
       "$\\displaystyle J {\\nu^c}_{0,1} {\\nu^t}_{0,1} e^{i t {\\Delta^{1}_{1}}} {{\\left|1c\\right\\rangle }{\\left\\langle 0c\\right|}}\\otimes {{\\left|0t\\right\\rangle }{\\left\\langle 1t\\right|}} + J {\\nu^c}_{0,1} {\\nu^t}_{0,1} e^{- i t {\\Delta^{1}_{1}}} {{\\left|0c\\right\\rangle }{\\left\\langle 1c\\right|}}\\otimes {{\\left|1t\\right\\rangle }{\\left\\langle 0t\\right|}} + J {\\nu^c}_{0,1} {\\nu^t}_{1,2} e^{i t {\\Delta^{1}_{2}}} {{\\left|1c\\right\\rangle }{\\left\\langle 0c\\right|}}\\otimes {{\\left|1t\\right\\rangle }{\\left\\langle 2t\\right|}} + J {\\nu^c}_{0,1} {\\nu^t}_{1,2} e^{- i t {\\Delta^{1}_{2}}} {{\\left|0c\\right\\rangle }{\\left\\langle 1c\\right|}}\\otimes {{\\left|2t\\right\\rangle }{\\left\\langle 1t\\right|}} + J {\\nu^c}_{0,1} {\\nu^t}_{2,3} e^{i t {\\Delta^{1}_{3}}} {{\\left|1c\\right\\rangle }{\\left\\langle 0c\\right|}}\\otimes {{\\left|2t\\right\\rangle }{\\left\\langle 3t\\right|}} + J {\\nu^c}_{0,1} {\\nu^t}_{2,3} e^{- i t {\\Delta^{1}_{3}}} {{\\left|0c\\right\\rangle }{\\left\\langle 1c\\right|}}\\otimes {{\\left|3t\\right\\rangle }{\\left\\langle 2t\\right|}} + J {\\nu^c}_{0,1} {\\nu^t}_{3,4} e^{i t {\\Delta^{1}_{4}}} {{\\left|1c\\right\\rangle }{\\left\\langle 0c\\right|}}\\otimes {{\\left|3t\\right\\rangle }{\\left\\langle 4t\\right|}} + J {\\nu^c}_{0,1} {\\nu^t}_{3,4} e^{- i t {\\Delta^{1}_{4}}} {{\\left|0c\\right\\rangle }{\\left\\langle 1c\\right|}}\\otimes {{\\left|4t\\right\\rangle }{\\left\\langle 3t\\right|}} + J {\\nu^c}_{1,2} {\\nu^t}_{0,1} e^{i t {\\Delta^{2}_{1}}} {{\\left|2c\\right\\rangle }{\\left\\langle 1c\\right|}}\\otimes {{\\left|0t\\right\\rangle }{\\left\\langle 1t\\right|}} + J {\\nu^c}_{1,2} {\\nu^t}_{0,1} e^{- i t {\\Delta^{2}_{1}}} {{\\left|1c\\right\\rangle }{\\left\\langle 2c\\right|}}\\otimes {{\\left|1t\\right\\rangle }{\\left\\langle 0t\\right|}} + J {\\nu^c}_{1,2} {\\nu^t}_{1,2} e^{i t {\\Delta^{2}_{2}}} {{\\left|2c\\right\\rangle }{\\left\\langle 1c\\right|}}\\otimes {{\\left|1t\\right\\rangle }{\\left\\langle 2t\\right|}} + J {\\nu^c}_{1,2} {\\nu^t}_{1,2} e^{- i t {\\Delta^{2}_{2}}} {{\\left|1c\\right\\rangle }{\\left\\langle 2c\\right|}}\\otimes {{\\left|2t\\right\\rangle }{\\left\\langle 1t\\right|}} + J {\\nu^c}_{1,2} {\\nu^t}_{2,3} e^{i t {\\Delta^{2}_{3}}} {{\\left|2c\\right\\rangle }{\\left\\langle 1c\\right|}}\\otimes {{\\left|2t\\right\\rangle }{\\left\\langle 3t\\right|}} + J {\\nu^c}_{1,2} {\\nu^t}_{2,3} e^{- i t {\\Delta^{2}_{3}}} {{\\left|1c\\right\\rangle }{\\left\\langle 2c\\right|}}\\otimes {{\\left|3t\\right\\rangle }{\\left\\langle 2t\\right|}} + J {\\nu^c}_{1,2} {\\nu^t}_{3,4} e^{i t {\\Delta^{2}_{4}}} {{\\left|2c\\right\\rangle }{\\left\\langle 1c\\right|}}\\otimes {{\\left|3t\\right\\rangle }{\\left\\langle 4t\\right|}} + J {\\nu^c}_{1,2} {\\nu^t}_{3,4} e^{- i t {\\Delta^{2}_{4}}} {{\\left|1c\\right\\rangle }{\\left\\langle 2c\\right|}}\\otimes {{\\left|4t\\right\\rangle }{\\left\\langle 3t\\right|}} + J {\\nu^c}_{2,3} {\\nu^t}_{0,1} e^{i t {\\Delta^{3}_{1}}} {{\\left|3c\\right\\rangle }{\\left\\langle 2c\\right|}}\\otimes {{\\left|0t\\right\\rangle }{\\left\\langle 1t\\right|}} + J {\\nu^c}_{2,3} {\\nu^t}_{0,1} e^{- i t {\\Delta^{3}_{1}}} {{\\left|2c\\right\\rangle }{\\left\\langle 3c\\right|}}\\otimes {{\\left|1t\\right\\rangle }{\\left\\langle 0t\\right|}} + J {\\nu^c}_{2,3} {\\nu^t}_{1,2} e^{i t {\\Delta^{3}_{2}}} {{\\left|3c\\right\\rangle }{\\left\\langle 2c\\right|}}\\otimes {{\\left|1t\\right\\rangle }{\\left\\langle 2t\\right|}} + J {\\nu^c}_{2,3} {\\nu^t}_{1,2} e^{- i t {\\Delta^{3}_{2}}} {{\\left|2c\\right\\rangle }{\\left\\langle 3c\\right|}}\\otimes {{\\left|2t\\right\\rangle }{\\left\\langle 1t\\right|}} + J {\\nu^c}_{2,3} {\\nu^t}_{2,3} e^{i t {\\Delta^{3}_{3}}} {{\\left|3c\\right\\rangle }{\\left\\langle 2c\\right|}}\\otimes {{\\left|2t\\right\\rangle }{\\left\\langle 3t\\right|}} + J {\\nu^c}_{2,3} {\\nu^t}_{2,3} e^{- i t {\\Delta^{3}_{3}}} {{\\left|2c\\right\\rangle }{\\left\\langle 3c\\right|}}\\otimes {{\\left|3t\\right\\rangle }{\\left\\langle 2t\\right|}} + J {\\nu^c}_{2,3} {\\nu^t}_{3,4} e^{i t {\\Delta^{3}_{4}}} {{\\left|3c\\right\\rangle }{\\left\\langle 2c\\right|}}\\otimes {{\\left|3t\\right\\rangle }{\\left\\langle 4t\\right|}} + J {\\nu^c}_{2,3} {\\nu^t}_{3,4} e^{- i t {\\Delta^{3}_{4}}} {{\\left|2c\\right\\rangle }{\\left\\langle 3c\\right|}}\\otimes {{\\left|4t\\right\\rangle }{\\left\\langle 3t\\right|}} + J {\\nu^c}_{3,4} {\\nu^t}_{0,1} e^{i t {\\Delta^{4}_{1}}} {{\\left|4c\\right\\rangle }{\\left\\langle 3c\\right|}}\\otimes {{\\left|0t\\right\\rangle }{\\left\\langle 1t\\right|}} + J {\\nu^c}_{3,4} {\\nu^t}_{0,1} e^{- i t {\\Delta^{4}_{1}}} {{\\left|3c\\right\\rangle }{\\left\\langle 4c\\right|}}\\otimes {{\\left|1t\\right\\rangle }{\\left\\langle 0t\\right|}} + J {\\nu^c}_{3,4} {\\nu^t}_{1,2} e^{i t {\\Delta^{4}_{2}}} {{\\left|4c\\right\\rangle }{\\left\\langle 3c\\right|}}\\otimes {{\\left|1t\\right\\rangle }{\\left\\langle 2t\\right|}} + J {\\nu^c}_{3,4} {\\nu^t}_{1,2} e^{- i t {\\Delta^{4}_{2}}} {{\\left|3c\\right\\rangle }{\\left\\langle 4c\\right|}}\\otimes {{\\left|2t\\right\\rangle }{\\left\\langle 1t\\right|}} + J {\\nu^c}_{3,4} {\\nu^t}_{2,3} e^{i t {\\Delta^{4}_{3}}} {{\\left|4c\\right\\rangle }{\\left\\langle 3c\\right|}}\\otimes {{\\left|2t\\right\\rangle }{\\left\\langle 3t\\right|}} + J {\\nu^c}_{3,4} {\\nu^t}_{2,3} e^{- i t {\\Delta^{4}_{3}}} {{\\left|3c\\right\\rangle }{\\left\\langle 4c\\right|}}\\otimes {{\\left|3t\\right\\rangle }{\\left\\langle 2t\\right|}} + J {\\nu^c}_{3,4} {\\nu^t}_{3,4} e^{i t {\\Delta^{4}_{4}}} {{\\left|4c\\right\\rangle }{\\left\\langle 3c\\right|}}\\otimes {{\\left|3t\\right\\rangle }{\\left\\langle 4t\\right|}} + J {\\nu^c}_{3,4} {\\nu^t}_{3,4} e^{- i t {\\Delta^{4}_{4}}} {{\\left|3c\\right\\rangle }{\\left\\langle 4c\\right|}}\\otimes {{\\left|4t\\right\\rangle }{\\left\\langle 3t\\right|}} + \\frac{\\Omega {\\nu^c}_{0,1} e^{i t {\\Delta^{1}_{1}}} {{\\left|1c\\right\\rangle }{\\left\\langle 0c\\right|}}\\otimes {{\\mathcal{I}}}}{2} + \\frac{\\Omega {\\nu^c}_{0,1} e^{- i t {\\Delta^{1}_{1}}} {{\\left|0c\\right\\rangle }{\\left\\langle 1c\\right|}}\\otimes {{\\mathcal{I}}}}{2} + \\frac{\\Omega {\\nu^c}_{1,2} e^{i t {\\Delta^{2}_{1}}} {{\\left|2c\\right\\rangle }{\\left\\langle 1c\\right|}}\\otimes {{\\mathcal{I}}}}{2} + \\frac{\\Omega {\\nu^c}_{1,2} e^{- i t {\\Delta^{2}_{1}}} {{\\left|1c\\right\\rangle }{\\left\\langle 2c\\right|}}\\otimes {{\\mathcal{I}}}}{2} + \\frac{\\Omega {\\nu^c}_{2,3} e^{i t {\\Delta^{3}_{1}}} {{\\left|3c\\right\\rangle }{\\left\\langle 2c\\right|}}\\otimes {{\\mathcal{I}}}}{2} + \\frac{\\Omega {\\nu^c}_{2,3} e^{- i t {\\Delta^{3}_{1}}} {{\\left|2c\\right\\rangle }{\\left\\langle 3c\\right|}}\\otimes {{\\mathcal{I}}}}{2} + \\frac{\\Omega {\\nu^c}_{3,4} e^{i t {\\Delta^{4}_{1}}} {{\\left|4c\\right\\rangle }{\\left\\langle 3c\\right|}}\\otimes {{\\mathcal{I}}}}{2} + \\frac{\\Omega {\\nu^c}_{3,4} e^{- i t {\\Delta^{4}_{1}}} {{\\left|3c\\right\\rangle }{\\left\\langle 4c\\right|}}\\otimes {{\\mathcal{I}}}}{2}$"
      ],
      "text/plain": [
       "J*{\\nu^c}_{0,1}*{\\nu^t}_{0,1}*exp(I*t*{\\Delta^{1}_{1}})*|1c><0c|x|0t><1t| + J*{\\nu^c}_{0,1}*{\\nu^t}_{0,1}*exp(-I*t*{\\Delta^{1}_{1}})*|0c><1c|x|1t><0t| + J*{\\nu^c}_{0,1}*{\\nu^t}_{1,2}*exp(I*t*{\\Delta^{1}_{2}})*|1c><0c|x|1t><2t| + J*{\\nu^c}_{0,1}*{\\nu^t}_{1,2}*exp(-I*t*{\\Delta^{1}_{2}})*|0c><1c|x|2t><1t| + J*{\\nu^c}_{0,1}*{\\nu^t}_{2,3}*exp(I*t*{\\Delta^{1}_{3}})*|1c><0c|x|2t><3t| + J*{\\nu^c}_{0,1}*{\\nu^t}_{2,3}*exp(-I*t*{\\Delta^{1}_{3}})*|0c><1c|x|3t><2t| + J*{\\nu^c}_{0,1}*{\\nu^t}_{3,4}*exp(I*t*{\\Delta^{1}_{4}})*|1c><0c|x|3t><4t| + J*{\\nu^c}_{0,1}*{\\nu^t}_{3,4}*exp(-I*t*{\\Delta^{1}_{4}})*|0c><1c|x|4t><3t| + J*{\\nu^c}_{1,2}*{\\nu^t}_{0,1}*exp(I*t*{\\Delta^{2}_{1}})*|2c><1c|x|0t><1t| + J*{\\nu^c}_{1,2}*{\\nu^t}_{0,1}*exp(-I*t*{\\Delta^{2}_{1}})*|1c><2c|x|1t><0t| + J*{\\nu^c}_{1,2}*{\\nu^t}_{1,2}*exp(I*t*{\\Delta^{2}_{2}})*|2c><1c|x|1t><2t| + J*{\\nu^c}_{1,2}*{\\nu^t}_{1,2}*exp(-I*t*{\\Delta^{2}_{2}})*|1c><2c|x|2t><1t| + J*{\\nu^c}_{1,2}*{\\nu^t}_{2,3}*exp(I*t*{\\Delta^{2}_{3}})*|2c><1c|x|2t><3t| + J*{\\nu^c}_{1,2}*{\\nu^t}_{2,3}*exp(-I*t*{\\Delta^{2}_{3}})*|1c><2c|x|3t><2t| + J*{\\nu^c}_{1,2}*{\\nu^t}_{3,4}*exp(I*t*{\\Delta^{2}_{4}})*|2c><1c|x|3t><4t| + J*{\\nu^c}_{1,2}*{\\nu^t}_{3,4}*exp(-I*t*{\\Delta^{2}_{4}})*|1c><2c|x|4t><3t| + J*{\\nu^c}_{2,3}*{\\nu^t}_{0,1}*exp(I*t*{\\Delta^{3}_{1}})*|3c><2c|x|0t><1t| + J*{\\nu^c}_{2,3}*{\\nu^t}_{0,1}*exp(-I*t*{\\Delta^{3}_{1}})*|2c><3c|x|1t><0t| + J*{\\nu^c}_{2,3}*{\\nu^t}_{1,2}*exp(I*t*{\\Delta^{3}_{2}})*|3c><2c|x|1t><2t| + J*{\\nu^c}_{2,3}*{\\nu^t}_{1,2}*exp(-I*t*{\\Delta^{3}_{2}})*|2c><3c|x|2t><1t| + J*{\\nu^c}_{2,3}*{\\nu^t}_{2,3}*exp(I*t*{\\Delta^{3}_{3}})*|3c><2c|x|2t><3t| + J*{\\nu^c}_{2,3}*{\\nu^t}_{2,3}*exp(-I*t*{\\Delta^{3}_{3}})*|2c><3c|x|3t><2t| + J*{\\nu^c}_{2,3}*{\\nu^t}_{3,4}*exp(I*t*{\\Delta^{3}_{4}})*|3c><2c|x|3t><4t| + J*{\\nu^c}_{2,3}*{\\nu^t}_{3,4}*exp(-I*t*{\\Delta^{3}_{4}})*|2c><3c|x|4t><3t| + J*{\\nu^c}_{3,4}*{\\nu^t}_{0,1}*exp(I*t*{\\Delta^{4}_{1}})*|4c><3c|x|0t><1t| + J*{\\nu^c}_{3,4}*{\\nu^t}_{0,1}*exp(-I*t*{\\Delta^{4}_{1}})*|3c><4c|x|1t><0t| + J*{\\nu^c}_{3,4}*{\\nu^t}_{1,2}*exp(I*t*{\\Delta^{4}_{2}})*|4c><3c|x|1t><2t| + J*{\\nu^c}_{3,4}*{\\nu^t}_{1,2}*exp(-I*t*{\\Delta^{4}_{2}})*|3c><4c|x|2t><1t| + J*{\\nu^c}_{3,4}*{\\nu^t}_{2,3}*exp(I*t*{\\Delta^{4}_{3}})*|4c><3c|x|2t><3t| + J*{\\nu^c}_{3,4}*{\\nu^t}_{2,3}*exp(-I*t*{\\Delta^{4}_{3}})*|3c><4c|x|3t><2t| + J*{\\nu^c}_{3,4}*{\\nu^t}_{3,4}*exp(I*t*{\\Delta^{4}_{4}})*|4c><3c|x|3t><4t| + J*{\\nu^c}_{3,4}*{\\nu^t}_{3,4}*exp(-I*t*{\\Delta^{4}_{4}})*|3c><4c|x|4t><3t| + Omega*{\\nu^c}_{0,1}*exp(I*t*{\\Delta^{1}_{1}})*|1c><0c|xI/2 + Omega*{\\nu^c}_{0,1}*exp(-I*t*{\\Delta^{1}_{1}})*|0c><1c|xI/2 + Omega*{\\nu^c}_{1,2}*exp(I*t*{\\Delta^{2}_{1}})*|2c><1c|xI/2 + Omega*{\\nu^c}_{1,2}*exp(-I*t*{\\Delta^{2}_{1}})*|1c><2c|xI/2 + Omega*{\\nu^c}_{2,3}*exp(I*t*{\\Delta^{3}_{1}})*|3c><2c|xI/2 + Omega*{\\nu^c}_{2,3}*exp(-I*t*{\\Delta^{3}_{1}})*|2c><3c|xI/2 + Omega*{\\nu^c}_{3,4}*exp(I*t*{\\Delta^{4}_{1}})*|4c><3c|xI/2 + Omega*{\\nu^c}_{3,4}*exp(-I*t*{\\Delta^{4}_{1}})*|3c><4c|xI/2"
      ]
     },
     "execution_count": 17,
     "metadata": {},
     "output_type": "execute_result"
    }
   ],
   "source": [
    "h_dirac"
   ]
  },
  {
   "cell_type": "code",
   "execution_count": null,
   "id": "4b0992e4-8710-40b7-9964-60cb5d467d81",
   "metadata": {},
   "outputs": [],
   "source": [
    "with open('first_principle_qutrit.pkl', 'wb') as out:\n",
    "    pickle.dump((hieff, g, gdot), out)"
   ]
  },
  {
   "cell_type": "code",
   "execution_count": 22,
   "id": "068a1232-fb26-4747-ad6a-1e8f9c9c61ab",
   "metadata": {
    "tags": []
   },
   "outputs": [],
   "source": [
    "from sympy import symbols, Rational\n",
    "d, a = symbols('Delta,alpha', real=True)"
   ]
  },
  {
   "cell_type": "code",
   "execution_count": null,
   "id": "43d72c68-0b60-4f2b-92ca-1f69392495c1",
   "metadata": {},
   "outputs": [],
   "source": [
    "frac = simplify(Rational(1, 2) / d**3\n",
    "                + Rational(-2 - 3 * 2 * 3, 4) / d**2 / (d + a)\n",
    "                + Rational(2 - 2 * 3, 4) / d / (d + a)**2\n",
    "                - Rational(2**2, 4) / (d + a)**3\n",
    "                - Rational(2, 4) / d**2 / (2 * d + a)\n",
    "                + Rational(9 * 2 * 3, 4) / d**2 / (2 * d + 3 * a))"
   ]
  },
  {
   "cell_type": "code",
   "execution_count": 28,
   "id": "38871154-6268-4a1e-8ab9-816501964fd8",
   "metadata": {
    "tags": []
   },
   "outputs": [
    {
     "data": {
      "text/latex": [
       "$\\displaystyle \\left(\\Delta + \\alpha\\right)^{3} \\cdot \\left(2 \\Delta + \\alpha\\right) \\left(2 \\Delta + 3 \\alpha\\right)$"
      ],
      "text/plain": [
       "(Delta + alpha)**3*(2*Delta + alpha)*(2*Delta + 3*alpha)"
      ]
     },
     "execution_count": 28,
     "metadata": {},
     "output_type": "execute_result"
    }
   ],
   "source": [
    "from sympy import factor\n",
    "factor(frac.args[3].args[0])"
   ]
  },
  {
   "cell_type": "code",
   "execution_count": 31,
   "id": "01ed4af4-33ec-4eb6-a937-d63d633d98f1",
   "metadata": {
    "tags": []
   },
   "outputs": [],
   "source": [
    "frac2 = simplify(Rational(1, 2) / d**3\n",
    "                + Rational(-2, 4) / d**2 / (d + a)\n",
    "                + Rational(2, 4) / d / (d + a)**2\n",
    "                - Rational(2**2, 4) / (d + a)**3\n",
    "                - Rational(2, 4) / d**2 / (2 * d + a)\n",
    "                + Rational(9 * 2 * 3, 4) / d**2 / (2 * d + 3 * a))"
   ]
  },
  {
   "cell_type": "code",
   "execution_count": 34,
   "id": "9fafc6fb-414b-4ff4-9276-cf58fb1cfced",
   "metadata": {
    "tags": []
   },
   "outputs": [
    {
     "data": {
      "text/latex": [
       "$\\displaystyle \\frac{3 \\left(- 4 \\Delta - 3 \\alpha\\right)}{2 \\Delta^{2} \\left(\\Delta^{2} + 2 \\Delta \\alpha + \\alpha^{2}\\right)}$"
      ],
      "text/plain": [
       "3*(-4*Delta - 3*alpha)/(2*Delta**2*(Delta**2 + 2*Delta*alpha + alpha**2))"
      ]
     },
     "execution_count": 34,
     "metadata": {},
     "output_type": "execute_result"
    }
   ],
   "source": [
    "simplify(frac - frac2)"
   ]
  },
  {
   "cell_type": "code",
   "execution_count": 35,
   "id": "bc4d9f9e-662f-43b8-b496-822ec505e9e9",
   "metadata": {
    "tags": []
   },
   "outputs": [
    {
     "data": {
      "text/latex": [
       "$\\displaystyle - \\frac{i \\left[\\left[\\left[G_{1},H_{I}\\right],G_{1}\\right],G_{1}\\right]}{8} + \\frac{\\left[\\left[G_{1},H_{I}\\right],G_{2}\\right]}{3} - \\frac{\\left[\\left[G_{1},\\dot{G}_2\\right],G_{1}\\right]}{6} + \\frac{\\left[\\left[G_{2},H_{I}\\right],G_{1}\\right]}{3} - \\frac{i \\left[G_{1},\\dot{G}_3\\right]}{2} - \\frac{i \\left[G_{2},\\dot{G}_2\\right]}{2} + \\frac{i \\left[G_{3},H_{I}\\right]}{2}$"
      ],
      "text/plain": [
       "-I*[[[G_1,H_I],G_1],G_1]/8 + [[G_1,H_I],G_2]/3 - [[G_1,\\dot{G}_2],G_1]/6 + [[G_2,H_I],G_1]/3 - I*[G_1,\\dot{G}_3]/2 - I*[G_2,\\dot{G}_2]/2 + I*[G_3,H_I]/2"
      ]
     },
     "execution_count": 35,
     "metadata": {},
     "output_type": "execute_result"
    }
   ],
   "source": [
    "get_expr_at_order(expansion, int_scale, 4) + sw.gdot_n[4]"
   ]
  },
  {
   "cell_type": "code",
   "execution_count": 37,
   "id": "153aeafd-40ff-4bd3-8b7b-fe1f1f5bac07",
   "metadata": {
    "tags": []
   },
   "outputs": [],
   "source": [
    "for arg in gdot[3].args:\n",
    "    if not arg.has(tvar):\n",
    "        display(arg)"
   ]
  },
  {
   "cell_type": "code",
   "execution_count": null,
   "id": "d515cb12-faf3-48b7-99cd-f12562350f21",
   "metadata": {},
   "outputs": [],
   "source": []
  }
 ],
 "metadata": {
  "kernelspec": {
   "display_name": "Python 3 (ipykernel)",
   "language": "python",
   "name": "python3"
  },
  "language_info": {
   "codemirror_mode": {
    "name": "ipython",
    "version": 3
   },
   "file_extension": ".py",
   "mimetype": "text/x-python",
   "name": "python",
   "nbconvert_exporter": "python",
   "pygments_lexer": "ipython3",
   "version": "3.10.12"
  }
 },
 "nbformat": 4,
 "nbformat_minor": 5
}
