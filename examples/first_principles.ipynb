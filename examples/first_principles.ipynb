{
 "cells": [
  {
   "cell_type": "markdown",
   "id": "e23c68a0-c2c6-49db-9d79-5817eb6463e9",
   "metadata": {},
   "source": [
    "# Reproduction of First-principles analysis of cross-resonance gate operation\n",
    "\n",
    "Malekakhlagh et al. PRA 102, 042605"
   ]
  },
  {
   "cell_type": "code",
   "execution_count": null,
   "id": "8597de84-01df-40c3-b853-0446b0205183",
   "metadata": {},
   "outputs": [],
   "source": [
    "import sys\n",
    "import os\n",
    "sys.path.append(os.path.dirname(os.getcwd()))\n",
    "import pickle\n",
    "from multiprocessing import Pool\n",
    "from sympy import Add, I, Mul, Pow, Symbol, pi, simplify\n",
    "from sympy.physics.quantum import Commutator, IdentityOperator, HermitianOperator, TensorProduct\n",
    "from symqudit.two_transmon_hamiltonian import (TwoTransmonHamiltonian, sort_block_diagonal,\n",
    "                                               to_dict, from_dict, dict_product)\n",
    "from symqudit.schrieffer_wolff_expansion import SWExpansion, integrate_exps\n",
    "from symqudit.common import ketbra, get_expr_at_order"
   ]
  },
  {
   "cell_type": "code",
   "execution_count": null,
   "id": "016405f6-1fbb-4367-99ff-534ba0a87ccd",
   "metadata": {},
   "outputs": [],
   "source": [
    "Id = IdentityOperator()\n",
    "\n",
    "def expand_term(term):\n",
    "    c_facts, ops = term.args_cnc()\n",
    "    for iop, op in list(enumerate(ops)):\n",
    "        if isinstance(op, Pow):\n",
    "            for _ in range(op.args[1] - 1):\n",
    "                ops.insert(iop, op.args[0])\n",
    "\n",
    "    op_prod = dict_product(op_dicts[ops[0]], op_dicts[ops[1]])\n",
    "    for op in ops[2:]:\n",
    "        op_prod = dict_product(op_prod, op_dicts[op])\n",
    "\n",
    "    overall = Mul(*c_facts)\n",
    "\n",
    "    coeffs, ops = [], []\n",
    "    for ket, bra_dict in op_prod.items():\n",
    "        for bra, coeff in bra_dict.items():\n",
    "            if ket[1] is None:\n",
    "                coeffs.append(overall * coeff)\n",
    "                ops.append(TensorProduct(ketbra(ket[0], bra[0]), Id))\n",
    "            else:\n",
    "                coeffs.append(overall * coeff)\n",
    "                ops.append(TensorProduct(ketbra(ket[0], bra[0]), ketbra(ket[1], bra[1])))\n",
    "\n",
    "    return coeffs, ops"
   ]
  },
  {
   "cell_type": "code",
   "execution_count": null,
   "id": "db2694e7-64d1-4c08-b287-98b13bf99aa3",
   "metadata": {},
   "outputs": [],
   "source": [
    "cutoff = 4\n",
    "c_params = (100., 0.1)\n",
    "t_params = (104., 0.1)"
   ]
  },
  {
   "cell_type": "code",
   "execution_count": null,
   "id": "f0308638-5f31-4e86-84a3-59b78f3020f8",
   "metadata": {},
   "outputs": [],
   "source": [
    "tth = TwoTransmonHamiltonian((c_params[0], t_params[0]), (c_params[1], t_params[1]))\n",
    "\n",
    "h_dirac = tth.h_dirac(cutoff=cutoff).expand()\n",
    "h_dirac = h_dirac.subs({tth.drive_freq: tth.qt.symbolic_eigenvalue(1).doit(), tth.drive_phase: pi})\n",
    "h_dirac = tth.subs_delta(h_dirac).expand()\n",
    "\n",
    "subs = {}\n",
    "for transmon in [tth.qc, tth.qt]:\n",
    "    for level in range(cutoff):\n",
    "        nu = transmon._transition_amp(level, level + 1)\n",
    "        subs[nu] = Symbol(nu._latex(None), real=True)\n",
    "\n",
    "h_dirac = h_dirac.subs(subs)\n",
    "\n",
    "sw = SWExpansion()\n",
    "int_scale = Symbol('lambda', real=True, nonnegative=True)\n",
    "h_i = HermitianOperator('H_I')\n",
    "expansion = sw.expand(int_scale * h_i, int_scale, 3)"
   ]
  },
  {
   "cell_type": "code",
   "execution_count": null,
   "id": "f5748cad-35fa-490c-a919-9666a83a2a28",
   "metadata": {},
   "outputs": [],
   "source": [
    "op_dicts = {h_i: to_dict(h_dirac)}\n",
    "op_expr = {}\n",
    "states_expr = {}\n",
    "g = {}\n",
    "gdot = {}\n",
    "hieff = {}\n",
    "\n",
    "def calc_heff_at_order(order):\n",
    "    expr = get_expr_at_order(expansion, int_scale, order) + sw.gdot_n[order]\n",
    "    expr = expr.expand(commutator=True, tensorproduct=True).doit().expand()\n",
    "    op_expr[order] = expr\n",
    "\n",
    "    if order == 1:\n",
    "        # No commutator for Order λ -> just substitute H_I\n",
    "        states_expr[order] = op_expr[order].subs({h_i: h_dirac})\n",
    "    else:\n",
    "        if isinstance(expr, Add):\n",
    "            with Pool() as pool:\n",
    "                term_lists = pool.map(expand_term, expr.args)\n",
    "        else:\n",
    "            term_lists = [expand_term(expr)]\n",
    "\n",
    "        coeffs = sum((c for c, _ in term_lists), [])\n",
    "        ops = sum((o for _, o in term_lists), [])\n",
    "\n",
    "        with Pool() as pool:\n",
    "            coeffs = pool.map(simplify, coeffs)\n",
    "\n",
    "        states_expr[order] = Add(*[c * o for c, o in zip(coeffs, ops)])\n",
    "\n",
    "    hieff[order], gdot[order] = sort_block_diagonal(states_expr[order])\n",
    "    g[order] = integrate_exps(gdot[order]).expand()\n",
    "    op_dicts.update({sw.g_n[order]: to_dict(g[order]), sw.gdot_n[order]: to_dict(gdot[order])})"
   ]
  },
  {
   "cell_type": "code",
   "execution_count": null,
   "id": "8d031fef-b591-4425-98bd-b20dedbe3b61",
   "metadata": {},
   "outputs": [],
   "source": [
    "## Order λ\n",
    "calc_heff_at_order(1)\n",
    "\n",
    "# Special substitution\n",
    "expansion = expansion.subs({sw.gdot_n[1]: h_i})\n",
    "\n",
    "## Order λ^2\n",
    "calc_heff_at_order(2)\n",
    "\n",
    "# Special substitution\n",
    "o2 = HermitianOperator('O_2')\n",
    "expansion = expansion.subs({Commutator(sw.g_n[1], h_i): -I * 2 * o2})\n",
    "op_dicts[o2] = to_dict(states_expr[2])\n",
    "\n",
    "# Order λ^3\n",
    "calc_heff_at_order(3)\n",
    "\n",
    "with open('first_principle_qutrit.pkl', 'wb') as out:\n",
    "    pickle.dump((hieff, g, gdot), out)"
   ]
  }
 ],
 "metadata": {
  "kernelspec": {
   "display_name": "Python 3 (ipykernel)",
   "language": "python",
   "name": "python3"
  },
  "language_info": {
   "codemirror_mode": {
    "name": "ipython",
    "version": 3
   },
   "file_extension": ".py",
   "mimetype": "text/x-python",
   "name": "python",
   "nbconvert_exporter": "python",
   "pygments_lexer": "ipython3",
   "version": "3.10.12"
  }
 },
 "nbformat": 4,
 "nbformat_minor": 5
}
