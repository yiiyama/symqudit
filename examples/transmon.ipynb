{
 "cells": [
  {
   "cell_type": "code",
   "execution_count": 5,
   "id": "916f14d7-cffe-485a-9f30-4e85debbd6a3",
   "metadata": {
    "tags": []
   },
   "outputs": [],
   "source": [
    "import sys\n",
    "import os\n",
    "sys.path.append(os.path.dirname(os.getcwd()))\n",
    "import time\n",
    "import pickle\n",
    "import copy\n",
    "import logging\n",
    "from collections import defaultdict\n",
    "from multiprocessing import Pool\n",
    "from IPython.display import Math\n",
    "from sympy import Add, Expr, I, Mul, Pow, S, Symbol, diff, pi, preorder_traversal, simplify, latex\n",
    "from sympy.physics.quantum import Commutator, IdentityOperator, HermitianOperator, TensorProduct, qapply\n",
    "from sympy.physics.quantum.sho1d import SHOKet\n",
    "from symqudit.transmon import Transmon\n",
    "from symqudit.two_transmon_hamiltonian import (TwoTransmonHamiltonian, FrequencyDiff, sort_block_diagonal,\n",
    "                                               to_dict, from_dict, dict_product)\n",
    "from symqudit.schrieffer_wolff_expansion import SWExpansion, integrate_exp_term, integrate_expr\n",
    "from symqudit.common import ketbra, get_expr_at_order, organize_by_denom, DiscreteBra, DiscreteKet, DiscreteOuterProduct\n",
    "\n",
    "logging.basicConfig(level=logging.INFO)\n",
    "logger = logging.getLogger()"
   ]
  },
  {
   "cell_type": "code",
   "execution_count": 2,
   "id": "572008c8-0adb-4c6f-ad3f-60009b302ced",
   "metadata": {
    "tags": []
   },
   "outputs": [],
   "source": [
    "tr = Transmon('', 100, 0.1)"
   ]
  },
  {
   "cell_type": "code",
   "execution_count": 3,
   "id": "58d611ed-f19e-4016-a4b5-4def1b846981",
   "metadata": {
    "tags": []
   },
   "outputs": [
    {
     "data": {
      "text/latex": [
       "$\\displaystyle \\frac{E_1 - E_0}{\\omega_h} = - \\frac{21 \\epsilon_{}^{3}}{512} - \\frac{\\epsilon_{}^{2}}{16} - \\frac{\\epsilon_{}}{4} + 1$"
      ],
      "text/plain": [
       "<IPython.core.display.Math object>"
      ]
     },
     "metadata": {},
     "output_type": "display_data"
    },
    {
     "data": {
      "text/latex": [
       "$\\displaystyle \\frac{E_2 - E_0}{\\omega_h} = - \\frac{123 \\epsilon_{}^{3}}{512} - \\frac{17 \\epsilon_{}^{2}}{64} - \\frac{3 \\epsilon_{}}{4} + 2$"
      ],
      "text/plain": [
       "<IPython.core.display.Math object>"
      ]
     },
     "metadata": {},
     "output_type": "display_data"
    },
    {
     "data": {
      "text/latex": [
       "$\\displaystyle \\frac{E_3 - E_0}{\\omega_h} = - \\frac{213 \\epsilon_{}^{3}}{256} - \\frac{45 \\epsilon_{}^{2}}{64} - \\frac{3 \\epsilon_{}}{2} + 3$"
      ],
      "text/plain": [
       "<IPython.core.display.Math object>"
      ]
     },
     "metadata": {},
     "output_type": "display_data"
    }
   ],
   "source": [
    "e0 = tr.eigenvalue(0, 3)\n",
    "for level in range(1, 4):\n",
    "    display(Math(fr'\\frac{{E_{level} - E_0}}{{\\omega_h}} = ' + latex(((tr.eigenvalue(level, 3) - e0) / tr._omegah).expand())))"
   ]
  },
  {
   "cell_type": "code",
   "execution_count": 27,
   "id": "dee0dadd-903b-4923-bbe2-5fc1b13aee9d",
   "metadata": {
    "tags": []
   },
   "outputs": [
    {
     "data": {
      "text/latex": [
       "$\\displaystyle \\left(1 - \\frac{13 \\epsilon_{}^{2}}{3072}\\right) {\\left|0\\right\\rangle }+\\left(\\frac{13 \\sqrt{2} \\epsilon_{}^{2}}{768} + \\frac{\\sqrt{2} \\epsilon_{}}{16}\\right) {\\left|2\\right\\rangle }+\\left(\\frac{\\sqrt{6} \\epsilon_{}^{2}}{96} + \\frac{\\sqrt{6} \\epsilon_{}}{96}\\right) {\\left|4\\right\\rangle }+\\frac{23 \\sqrt{5} \\epsilon_{}^{2} {\\left|6\\right\\rangle }}{3840}+\\frac{\\sqrt{70} \\epsilon_{}^{2} {\\left|8\\right\\rangle }}{3072}$"
      ],
      "text/plain": [
       "<IPython.core.display.Math object>"
      ]
     },
     "metadata": {},
     "output_type": "display_data"
    },
    {
     "data": {
      "text/latex": [
       "$\\displaystyle \\left(1 - \\frac{35 \\epsilon_{}^{2}}{1024}\\right) {\\left|1\\right\\rangle }+\\left(\\frac{37 \\sqrt{6} \\epsilon_{}^{2}}{768} + \\frac{5 \\sqrt{6} \\epsilon_{}}{48}\\right) {\\left|3\\right\\rangle }+\\left(\\frac{41 \\sqrt{30} \\epsilon_{}^{2}}{1920} + \\frac{\\sqrt{30} \\epsilon_{}}{96}\\right) {\\left|5\\right\\rangle }+\\frac{11 \\sqrt{35} \\epsilon_{}^{2} {\\left|7\\right\\rangle }}{1280}+\\frac{\\sqrt{70} \\epsilon_{}^{2} {\\left|9\\right\\rangle }}{1024}$"
      ],
      "text/plain": [
       "<IPython.core.display.Math object>"
      ]
     },
     "metadata": {},
     "output_type": "display_data"
    },
    {
     "data": {
      "text/latex": [
       "$\\displaystyle \\left(- \\frac{5 \\sqrt{2} \\epsilon_{}^{2}}{192} - \\frac{\\sqrt{2} \\epsilon_{}}{16}\\right) {\\left|0\\right\\rangle }+\\left(1 - \\frac{419 \\epsilon_{}^{2}}{3072}\\right) {\\left|2\\right\\rangle }+\\left(\\frac{145 \\sqrt{3} \\epsilon_{}^{2}}{768} + \\frac{7 \\sqrt{3} \\epsilon_{}}{24}\\right) {\\left|4\\right\\rangle }+\\left(\\frac{103 \\sqrt{10} \\epsilon_{}^{2}}{960} + \\frac{\\sqrt{10} \\epsilon_{}}{32}\\right) {\\left|6\\right\\rangle }+\\frac{43 \\sqrt{35} \\epsilon_{}^{2} {\\left|8\\right\\rangle }}{1920}+\\frac{5 \\sqrt{14} \\epsilon_{}^{2} {\\left|10\\right\\rangle }}{1024}$"
      ],
      "text/plain": [
       "<IPython.core.display.Math object>"
      ]
     },
     "metadata": {},
     "output_type": "display_data"
    },
    {
     "data": {
      "text/latex": [
       "$\\displaystyle \\left(- \\frac{13 \\sqrt{6} \\epsilon_{}^{2}}{192} - \\frac{5 \\sqrt{6} \\epsilon_{}}{48}\\right) {\\left|1\\right\\rangle }+\\left(1 - \\frac{405 \\epsilon_{}^{2}}{1024}\\right) {\\left|3\\right\\rangle }+\\left(\\frac{79 \\sqrt{5} \\epsilon_{}^{2}}{256} + \\frac{3 \\sqrt{5} \\epsilon_{}}{8}\\right) {\\left|5\\right\\rangle }+\\left(\\frac{103 \\sqrt{210} \\epsilon_{}^{2}}{1920} + \\frac{\\sqrt{210} \\epsilon_{}}{96}\\right) {\\left|7\\right\\rangle }+\\frac{53 \\sqrt{105} \\epsilon_{}^{2} {\\left|9\\right\\rangle }}{1920}+\\frac{5 \\sqrt{462} \\epsilon_{}^{2} {\\left|11\\right\\rangle }}{3072}$"
      ],
      "text/plain": [
       "<IPython.core.display.Math object>"
      ]
     },
     "metadata": {},
     "output_type": "display_data"
    }
   ],
   "source": [
    "def organize_by_ket(state):\n",
    "    ket_coeffs = defaultdict(lambda: S.Zero)\n",
    "    for term in state.expand().args:\n",
    "        c, nc = term.args_cnc()\n",
    "        ket_coeffs[nc[0].args] += Mul(*c)\n",
    "\n",
    "    states = []\n",
    "    for ket in sorted(ket_coeffs.keys()):\n",
    "        coeff = ket_coeffs[ket]\n",
    "        states.append(latex(coeff.expand() * SHOKet(*ket)))\n",
    "        \n",
    "    return '+'.join(states)\n",
    "\n",
    "for level in range(4):\n",
    "    display(Math(organize_by_ket(tr.eigenstate(level, 2))))"
   ]
  },
  {
   "cell_type": "code",
   "execution_count": 33,
   "id": "44443f61-75a6-4d08-9fd1-d57a65e3e6ae",
   "metadata": {
    "tags": []
   },
   "outputs": [
    {
     "data": {
      "text/latex": [
       "$\\displaystyle \\mu_{01} = \\frac{13 \\epsilon_{}^{2}}{256} + \\frac{\\epsilon_{}}{8} + 1$"
      ],
      "text/plain": [
       "<IPython.core.display.Math object>"
      ]
     },
     "metadata": {},
     "output_type": "display_data"
    },
    {
     "data": {
      "text/latex": [
       "$\\displaystyle \\mu_{12} = \\frac{95 \\sqrt{2} \\epsilon_{}^{2}}{512} + \\frac{\\sqrt{2} \\epsilon_{}}{4} + \\sqrt{2}$"
      ],
      "text/plain": [
       "<IPython.core.display.Math object>"
      ]
     },
     "metadata": {},
     "output_type": "display_data"
    },
    {
     "data": {
      "text/latex": [
       "$\\displaystyle \\mu_{23} = \\frac{105 \\sqrt{3} \\epsilon_{}^{2}}{256} + \\frac{3 \\sqrt{3} \\epsilon_{}}{8} + \\sqrt{3}$"
      ],
      "text/plain": [
       "<IPython.core.display.Math object>"
      ]
     },
     "metadata": {},
     "output_type": "display_data"
    },
    {
     "data": {
      "text/latex": [
       "$\\displaystyle \\mu_{03} = - \\frac{3 \\sqrt{6} \\epsilon_{}^{2}}{128} - \\frac{\\sqrt{6} \\epsilon_{}}{48}$"
      ],
      "text/plain": [
       "<IPython.core.display.Math object>"
      ]
     },
     "metadata": {},
     "output_type": "display_data"
    }
   ],
   "source": [
    "for row, col in [(0, 1), (1, 2), (2, 3), (0, 3)]:\n",
    "    display(Math(fr'\\mu_{{{row}{col}}} = ' + latex(tr.phase_matrix_element(row, col, 2))))"
   ]
  },
  {
   "cell_type": "code",
   "execution_count": 34,
   "id": "e833f7af-8743-4fd8-8225-258cecaae204",
   "metadata": {
    "tags": []
   },
   "outputs": [
    {
     "data": {
      "text/latex": [
       "$\\displaystyle \\nu_{01} = - \\frac{11 \\epsilon_{}^{2}}{256} - \\frac{\\epsilon_{}}{8} + 1$"
      ],
      "text/plain": [
       "<IPython.core.display.Math object>"
      ]
     },
     "metadata": {},
     "output_type": "display_data"
    },
    {
     "data": {
      "text/latex": [
       "$\\displaystyle \\nu_{12} = - \\frac{73 \\sqrt{2} \\epsilon_{}^{2}}{512} - \\frac{\\sqrt{2} \\epsilon_{}}{4} + \\sqrt{2}$"
      ],
      "text/plain": [
       "<IPython.core.display.Math object>"
      ]
     },
     "metadata": {},
     "output_type": "display_data"
    },
    {
     "data": {
      "text/latex": [
       "$\\displaystyle \\nu_{23} = - \\frac{79 \\sqrt{3} \\epsilon_{}^{2}}{256} - \\frac{3 \\sqrt{3} \\epsilon_{}}{8} + \\sqrt{3}$"
      ],
      "text/plain": [
       "<IPython.core.display.Math object>"
      ]
     },
     "metadata": {},
     "output_type": "display_data"
    },
    {
     "data": {
      "text/latex": [
       "$\\displaystyle \\nu_{03} = - \\frac{5 \\sqrt{6} \\epsilon_{}^{2}}{128} - \\frac{\\sqrt{6} \\epsilon_{}}{16}$"
      ],
      "text/plain": [
       "<IPython.core.display.Math object>"
      ]
     },
     "metadata": {},
     "output_type": "display_data"
    }
   ],
   "source": [
    "for row, col in [(0, 1), (1, 2), (2, 3), (0, 3)]:\n",
    "    display(Math(fr'\\nu_{{{row}{col}}} = ' + latex((I * tr.charge_matrix_element(row, col, 2)).expand())))"
   ]
  },
  {
   "cell_type": "code",
   "execution_count": null,
   "id": "cf0cbe78-5215-4507-ba6f-1b2658878aa7",
   "metadata": {},
   "outputs": [],
   "source": []
  }
 ],
 "metadata": {
  "kernelspec": {
   "display_name": "Python 3 (ipykernel)",
   "language": "python",
   "name": "python3"
  },
  "language_info": {
   "codemirror_mode": {
    "name": "ipython",
    "version": 3
   },
   "file_extension": ".py",
   "mimetype": "text/x-python",
   "name": "python",
   "nbconvert_exporter": "python",
   "pygments_lexer": "ipython3",
   "version": "3.10.12"
  }
 },
 "nbformat": 4,
 "nbformat_minor": 5
}
